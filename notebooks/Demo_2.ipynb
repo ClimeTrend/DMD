{
 "cells": [
  {
   "cell_type": "markdown",
   "metadata": {},
   "source": [
    "# Intro\n",
    "\n",
    "This notebook provides minimal functionality for applying DMD to noisy climate data. \n",
    "\n",
    "The following capabilities are implemented:\n",
    "\n",
    "* use mask to remove land pixels from training\n",
    "* window average (window before current time)\n",
    "* densely sample weekly means around local mins of total ice\n",
    "* model monthly across years\n"
   ]
  },
  {
   "cell_type": "code",
   "execution_count": 1,
   "metadata": {},
   "outputs": [
    {
     "name": "stderr",
     "output_type": "stream",
     "text": [
      "/var/folders/2m/t5bb62r50jbb_r1gf5dsdy680000gr/T/ipykernel_87202/1249405455.py:18: TqdmExperimentalWarning: Using `tqdm.autonotebook.tqdm` in notebook mode. Use `tqdm.tqdm` instead to force console mode (e.g. in jupyter console)\n",
      "  from tqdm.autonotebook import tqdm, trange\n"
     ]
    }
   ],
   "source": [
    "%load_ext autoreload\n",
    "%autoreload 2\n",
    "import dill\n",
    "\n",
    "import numpy as np\n",
    "import matplotlib.pyplot as plt\n",
    "\n",
    "from pydmd import DMD, BOPDMD, FbDMD, MrDMD\n",
    "from pydmd.plotter import plot_eigs, plot_summary, plot_modes_2D\n",
    "from pydmd.preprocessing import hankel_preprocessing\n",
    "\n",
    "from IPython.display import display\n",
    "from ipywidgets import interact, interactive, fixed, interact_manual\n",
    "import ipywidgets as widgets\n",
    "\n",
    "from scipy.ndimage import gaussian_filter\n",
    "\n",
    "from tqdm.autonotebook import tqdm, trange\n",
    "\n",
    "from scipy.signal import fftconvolve\n",
    "\n",
    "import sys\n",
    "\n",
    "sys.path.insert(0, '../src/WeatherDMD/')\n",
    "\n",
    "from WeatherDMD.plot_jupyter import contour_compare, contour_data\n",
    "from WeatherDMD.data_wrangle import get_days_before, get_test_set, window_mean\n",
    "from WeatherDMD.dmd_routines import reshape_data2dmd, train_dmd, reshape_Psi2data, eval_dmd\n",
    "\n",
    "import xarray\n",
    "import netCDF4 as nc\n",
    "from netCDF4 import Dataset"
   ]
  },
  {
   "cell_type": "markdown",
   "metadata": {},
   "source": [
    "# DATA"
   ]
  },
  {
   "cell_type": "code",
   "execution_count": 2,
   "metadata": {},
   "outputs": [],
   "source": [
    "dSet = nc.Dataset('../data/2020-02-10_2020-02-20_era5_slice_resampled.nc')  "
   ]
  },
  {
   "cell_type": "code",
   "execution_count": 3,
   "metadata": {},
   "outputs": [
    {
     "data": {
      "text/plain": [
       "dict_keys(['u_component_of_wind', 'v_component_of_wind', 'geopotential', 'temperature', 'latitude', 'level', 'longitude', 'time'])"
      ]
     },
     "execution_count": 3,
     "metadata": {},
     "output_type": "execute_result"
    }
   ],
   "source": [
    "dSet.variables.keys()"
   ]
  },
  {
   "cell_type": "code",
   "execution_count": 4,
   "metadata": {},
   "outputs": [
    {
     "data": {
      "text/plain": [
       "masked_array(\n",
       "  data=[[[236.14648, 236.14648, 236.14648, ..., 236.14648, 236.14648,\n",
       "          236.14648],\n",
       "         [235.90735, 235.90572, 235.90245, ..., 235.91632, 235.91306,\n",
       "          235.91061],\n",
       "         [235.60373, 235.60046, 235.59639, ..., 235.6176 , 235.6127 ,\n",
       "          235.60863],\n",
       "         ...,\n",
       "         [239.98079, 239.96365, 239.94733, ..., 240.03058, 240.01344,\n",
       "          239.99712],\n",
       "         [240.72432, 240.71533, 240.70636, ..., 240.75288, 240.74309,\n",
       "          240.73329],\n",
       "         [241.49803, 241.49803, 241.49803, ..., 241.49803, 241.49803,\n",
       "          241.49803]],\n",
       "\n",
       "        [[236.73575, 236.73575, 236.73575, ..., 236.73575, 236.73575,\n",
       "          236.73575],\n",
       "         [236.8753 , 236.8753 , 236.8753 , ..., 236.87613, 236.87613,\n",
       "          236.87613],\n",
       "         [236.81654, 236.81573, 236.81573, ..., 236.81818, 236.81818,\n",
       "          236.81654],\n",
       "         ...,\n",
       "         [239.10342, 239.0871 , 239.0724 , ..., 239.14995, 239.13443,\n",
       "          239.11893],\n",
       "         [239.88693, 239.87877, 239.8698 , ..., 239.91386, 239.90489,\n",
       "          239.8959 ],\n",
       "         [240.78879, 240.78879, 240.78879, ..., 240.78879, 240.78879,\n",
       "          240.78879]],\n",
       "\n",
       "        [[235.7784 , 235.7784 , 235.7784 , ..., 235.7784 , 235.7784 ,\n",
       "          235.7784 ],\n",
       "         [235.76125, 235.75798, 235.75554, ..., 235.77023, 235.76697,\n",
       "          235.7637 ],\n",
       "         [235.78165, 235.77594, 235.77023, ..., 235.80043, 235.7939 ,\n",
       "          235.78818],\n",
       "         ...,\n",
       "         [237.89224, 237.88571, 237.88081, ..., 237.90775, 237.90204,\n",
       "          237.89714],\n",
       "         [238.13138, 238.12648, 238.12158, ..., 238.14607, 238.14117,\n",
       "          238.13628],\n",
       "         [238.88306, 238.88306, 238.88306, ..., 238.88306, 238.88306,\n",
       "          238.88306]],\n",
       "\n",
       "        ...,\n",
       "\n",
       "        [[235.69868, 235.69868, 235.69868, ..., 235.69868, 235.69868,\n",
       "          235.69868],\n",
       "         [235.43243, 235.43243, 235.43243, ..., 235.43166, 235.43166,\n",
       "          235.43243],\n",
       "         [235.25934, 235.25856, 235.25623, ..., 235.26555, 235.26321,\n",
       "          235.26166],\n",
       "         ...,\n",
       "         [236.98566, 236.98332, 236.981  , ..., 236.99265, 236.99109,\n",
       "          236.98798],\n",
       "         [236.99031, 236.98721, 236.9841 , ..., 236.99886, 236.99574,\n",
       "          236.99265],\n",
       "         [237.1704 , 237.1704 , 237.1704 , ..., 237.1704 , 237.1704 ,\n",
       "          237.1704 ]],\n",
       "\n",
       "        [[235.04898, 235.04898, 235.04898, ..., 235.04898, 235.04898,\n",
       "          235.04898],\n",
       "         [234.6989 , 234.70433, 234.70978, ..., 234.68338, 234.68881,\n",
       "          234.69424],\n",
       "         [234.28673, 234.29759, 234.30847, ..., 234.25568, 234.265  ,\n",
       "          234.27586],\n",
       "         ...,\n",
       "         [237.35669, 237.35513, 237.35435, ..., 237.35979, 237.35902,\n",
       "          237.35825],\n",
       "         [237.26974, 237.26898, 237.2682 , ..., 237.27364, 237.27208,\n",
       "          237.2713 ],\n",
       "         [237.56084, 237.56084, 237.56084, ..., 237.56084, 237.56084,\n",
       "          237.56084]],\n",
       "\n",
       "        [[235.46504, 235.46504, 235.46504, ..., 235.46504, 235.46504,\n",
       "          235.46504],\n",
       "         [235.1002 , 235.10098, 235.10098, ..., 235.1002 , 235.1002 ,\n",
       "          235.1002 ],\n",
       "         [235.01405, 235.0125 , 235.01016, ..., 235.02104, 235.01793,\n",
       "          235.01637],\n",
       "         ...,\n",
       "         [237.22551, 237.21852, 237.21075, ..., 237.24724, 237.24103,\n",
       "          237.23328],\n",
       "         [237.32797, 237.32564, 237.32254, ..., 237.33572, 237.33263,\n",
       "          237.33029],\n",
       "         [237.38309, 237.38309, 237.38309, ..., 237.38309, 237.38309,\n",
       "          237.38309]]],\n",
       "  mask=False,\n",
       "  fill_value=1e+20,\n",
       "  dtype=float32)"
      ]
     },
     "execution_count": 4,
     "metadata": {},
     "output_type": "execute_result"
    }
   ],
   "source": [
    "dSet.variables['temperature'][:][:, 0, ...]"
   ]
  },
  {
   "cell_type": "code",
   "execution_count": 5,
   "metadata": {},
   "outputs": [
    {
     "data": {
      "text/plain": [
       "(44, 361, 720)"
      ]
     },
     "execution_count": 5,
     "metadata": {},
     "output_type": "execute_result"
    }
   ],
   "source": [
    "dSet.variables['temperature'][:][:, 0, ...].shape"
   ]
  },
  {
   "cell_type": "code",
   "execution_count": 6,
   "metadata": {},
   "outputs": [],
   "source": [
    "data = dSet.variables['temperature'][:][:, 0, ...][:, :360, :360]"
   ]
  },
  {
   "cell_type": "code",
   "execution_count": 7,
   "metadata": {},
   "outputs": [],
   "source": [
    "DATA = data[None, ...]"
   ]
  },
  {
   "cell_type": "code",
   "execution_count": 8,
   "metadata": {},
   "outputs": [
    {
     "data": {
      "text/plain": [
       "(1, 44, 360, 360)"
      ]
     },
     "execution_count": 8,
     "metadata": {},
     "output_type": "execute_result"
    }
   ],
   "source": [
    "DATA.shape"
   ]
  },
  {
   "cell_type": "code",
   "execution_count": 9,
   "metadata": {},
   "outputs": [
    {
     "data": {
      "application/vnd.jupyter.widget-view+json": {
       "model_id": "16e2cca3b36d4009bc1a6c2f63171039",
       "version_major": 2,
       "version_minor": 0
      },
      "text/plain": [
       "interactive(children=(IntSlider(value=0, description='f_i(x,y)', max=43), IntSlider(value=180, description='f_…"
      ]
     },
     "execution_count": 9,
     "metadata": {},
     "output_type": "execute_result"
    }
   ],
   "source": [
    "contour_data(data)"
   ]
  },
  {
   "cell_type": "code",
   "execution_count": 10,
   "metadata": {},
   "outputs": [
    {
     "data": {
      "text/plain": [
       "(44, 360, 360)"
      ]
     },
     "execution_count": 10,
     "metadata": {},
     "output_type": "execute_result"
    }
   ],
   "source": [
    "data.shape"
   ]
  },
  {
   "cell_type": "code",
   "execution_count": 11,
   "metadata": {},
   "outputs": [],
   "source": [
    "x = np.linspace(0, 1, data.shape[2])\n",
    "y = np.linspace(0, 1, data.shape[1])"
   ]
  },
  {
   "cell_type": "code",
   "execution_count": 12,
   "metadata": {},
   "outputs": [],
   "source": [
    "Integral_pred = np.trapz(np.trapz(data, x, axis = 2), y, axis = 1)\n"
   ]
  },
  {
   "cell_type": "code",
   "execution_count": 13,
   "metadata": {},
   "outputs": [
    {
     "data": {
      "text/plain": [
       "[<matplotlib.lines.Line2D at 0x29b734500>]"
      ]
     },
     "execution_count": 13,
     "metadata": {},
     "output_type": "execute_result"
    },
    {
     "data": {
      "image/png": "[encoded data removed]",
      "text/plain": [
       "<Figure size 640x480 with 1 Axes>"
      ]
     },
     "metadata": {},
     "output_type": "display_data"
    }
   ],
   "source": [
    "plt.plot(Integral_pred, '.-')"
   ]
  },
  {
   "cell_type": "code",
   "execution_count": null,
   "metadata": {},
   "outputs": [],
   "source": []
  },
  {
   "cell_type": "markdown",
   "metadata": {},
   "source": [
    "## Train optimised DMD\n",
    "\n",
    "DMD does not really require batching the data in the deep-AI sense. We simply need to select a training interval and fit DMD. After fitting, DMD model with fitted parameters can be used for prediction on any time interval. \n",
    "\n",
    "1. Identify a starting point in time by `year`, `day` \n",
    "2. Identify, how many days to train on: `T_train`\n",
    "3. Select subset of `DATA`, based on the above. Perform window-averaging to de-noise it. \n",
    "4. Fit DMD. \n",
    "5. Compute DMD predictions from `year`, `day` forward. "
   ]
  },
  {
   "cell_type": "code",
   "execution_count": 14,
   "metadata": {},
   "outputs": [
    {
     "data": {
      "text/plain": [
       "(44, 360, 360)"
      ]
     },
     "execution_count": 14,
     "metadata": {},
     "output_type": "execute_result"
    }
   ],
   "source": [
    "DATA[0].shape"
   ]
  },
  {
   "cell_type": "code",
   "execution_count": 15,
   "metadata": {},
   "outputs": [
    {
     "data": {
      "text/plain": [
       "1"
      ]
     },
     "execution_count": 15,
     "metadata": {},
     "output_type": "execute_result"
    }
   ],
   "source": [
    "len(DATA)"
   ]
  },
  {
   "cell_type": "code",
   "execution_count": 16,
   "metadata": {},
   "outputs": [
    {
     "data": {
      "text/plain": [
       "((20, 360, 360), (11, 360, 360))"
      ]
     },
     "execution_count": 16,
     "metadata": {},
     "output_type": "execute_result"
    }
   ],
   "source": [
    "#\n",
    "year = 0\n",
    "day = 20\n",
    "\n",
    "window = 10\n",
    "T_train = 11\n",
    "\n",
    "# compute windowed mean. Returns T_train snapshots before current time point (not inclusive)\n",
    "X0_ = get_days_before(DATA, year, day, T_train+window-1)\n",
    "X0 = window_mean(X0_, window = window, t = None)\n",
    "\n",
    "\n",
    "X0_.shape, X0.shape"
   ]
  },
  {
   "cell_type": "code",
   "execution_count": 17,
   "metadata": {},
   "outputs": [
    {
     "data": {
      "application/vnd.jupyter.widget-view+json": {
       "model_id": "43bde7af954846edbbf3b26b10c414e3",
       "version_major": 2,
       "version_minor": 0
      },
      "text/plain": [
       "interactive(children=(IntSlider(value=0, description='f_i(x,y)', max=10), IntSlider(value=180, description='f_…"
      ]
     },
     "execution_count": 17,
     "metadata": {},
     "output_type": "execute_result"
    }
   ],
   "source": [
    "contour_compare(X0_[window-1:], X0)"
   ]
  },
  {
   "cell_type": "code",
   "execution_count": 18,
   "metadata": {},
   "outputs": [
    {
     "data": {
      "text/plain": [
       "(11, 360, 360)"
      ]
     },
     "execution_count": 18,
     "metadata": {},
     "output_type": "execute_result"
    }
   ],
   "source": [
    "X0.shape"
   ]
  },
  {
   "cell_type": "code",
   "execution_count": 20,
   "metadata": {},
   "outputs": [
    {
     "name": "stderr",
     "output_type": "stream",
     "text": [
      "/Users/lfrance/Library/CloudStorage/OneDrive-TheAlanTuringInstitute/002_Projects/WeatherDMD/WeatherDMD/.venv/lib/python3.12/site-packages/pydmd/bopdmd.py:751: UserWarning: Initial trial of Optimized DMD failed to converge. Consider re-adjusting your variable projection parameters with the varpro_opts_dict and consider setting verbose=True.\n",
      "  warnings.warn(msg)\n"
     ]
    }
   ],
   "source": [
    "rank = 5\n",
    "t = np.arange(-T_train, 0)\n",
    "\n",
    "# time delay and dmd snapshots\n",
    "X_delayed, t_delayed, data_shape = reshape_data2dmd(X0, t, time_delay = 2, \n",
    "                                                     mask = None,\n",
    "                                                    isKeepFirstTimes = True)\n",
    "# train dmd\n",
    "Lambda, Psi_, bn = train_dmd(X_delayed, t_delayed, svd_rank= rank)\n",
    "\n",
    "Psi = reshape_Psi2data(Psi_, data_shape, mask = None)"
   ]
  },
  {
   "cell_type": "code",
   "execution_count": 21,
   "metadata": {},
   "outputs": [
    {
     "data": {
      "text/plain": [
       "(5, 360, 360)"
      ]
     },
     "execution_count": 21,
     "metadata": {},
     "output_type": "execute_result"
    }
   ],
   "source": [
    "Psi.shape"
   ]
  },
  {
   "cell_type": "code",
   "execution_count": 22,
   "metadata": {},
   "outputs": [],
   "source": [
    "t = np.arange(-T_train, T_train)\n",
    "true_after = get_test_set(DATA, year, day, window, T_train)\n",
    "X_true = np.concatenate((X0, true_after), axis = 0)\n",
    "\n",
    "X_pred = eval_dmd(Lambda, Psi, bn, t)"
   ]
  },
  {
   "cell_type": "code",
   "execution_count": 23,
   "metadata": {},
   "outputs": [
    {
     "data": {
      "text/plain": [
       "<matplotlib.legend.Legend at 0x29b6318e0>"
      ]
     },
     "execution_count": 23,
     "metadata": {},
     "output_type": "execute_result"
    },
    {
     "data": {
      "image/png": "[encoded data removed]",
      "text/plain": [
       "<Figure size 640x480 with 1 Axes>"
      ]
     },
     "metadata": {},
     "output_type": "display_data"
    }
   ],
   "source": [
    "# COMPUTE METRIC OF PREDICTION\n",
    "Integral_pred = np.trapz(np.trapz(X_pred, x, axis = 2), y, axis = 1)\n",
    "Integral_true = np.trapz(np.trapz(X_true, x, axis = 2), y, axis = 1)\n",
    "\n",
    "# plt.plot(t, Integral_pred1.T, color = 'k');\n",
    "plt.plot(t, Integral_pred.T, color = 'grey');\n",
    "plt.plot(t, Integral_true, label = 'true total', color = 'r')\n",
    "plt.axvline(0, linestyle = '--', color = 'k')\n",
    "\n",
    "plt.ylabel('total')\n",
    "plt.xlabel('days')\n",
    "\n",
    "plt.legend(loc = 'upper right')"
   ]
  },
  {
   "cell_type": "code",
   "execution_count": 24,
   "metadata": {},
   "outputs": [
    {
     "data": {
      "application/vnd.jupyter.widget-view+json": {
       "model_id": "27a7fc679405416aa64e84ac84775ea7",
       "version_major": 2,
       "version_minor": 0
      },
      "text/plain": [
       "interactive(children=(IntSlider(value=0, description='f_i(x,y)', max=21), IntSlider(value=180, description='f_…"
      ]
     },
     "execution_count": 24,
     "metadata": {},
     "output_type": "execute_result"
    }
   ],
   "source": [
    "contour_compare(X_true, X_pred)"
   ]
  }
 ],
 "metadata": {
  "kernelspec": {
   "display_name": "xeus",
   "language": "python",
   "name": "python3"
  },
  "language_info": {
   "codemirror_mode": {
    "name": "ipython",
    "version": 3
   },
   "file_extension": ".py",
   "mimetype": "text/x-python",
   "name": "python",
   "nbconvert_exporter": "python",
   "pygments_lexer": "ipython3",
   "version": "3.12.2"
  }
 },
 "nbformat": 4,
 "nbformat_minor": 2
}
