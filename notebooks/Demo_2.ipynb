{
 "cells": [
  {
   "cell_type": "markdown",
   "metadata": {},
   "source": [
    "# Intro\n",
    "\n",
    "This notebook provides minimal functionality for applying DMD to noisy climate data. \n",
    "\n",
    "The following capabilities are implemented:\n",
    "\n",
    "* use mask to remove land pixels from training\n",
    "* window average (window before current time)\n",
    "* densely sample weekly means around local mins of total ice\n",
    "* model monthly across years\n"
   ]
  },
  {
   "cell_type": "code",
   "execution_count": 1,
   "metadata": {},
   "outputs": [
    {
     "name": "stderr",
     "output_type": "stream",
     "text": [
      "/var/folders/3p/bn7y7hcd6s7_28j4tq3cv2hr0000gs/T/ipykernel_57995/1018395117.py:18: TqdmExperimentalWarning: Using `tqdm.autonotebook.tqdm` in notebook mode. Use `tqdm.tqdm` instead to force console mode (e.g. in jupyter console)\n",
      "  from tqdm.autonotebook import tqdm, trange\n"
     ]
    }
   ],
   "source": [
    "%load_ext autoreload\n",
    "%autoreload 2\n",
    "import dill\n",
    "\n",
    "import numpy as np\n",
    "import matplotlib.pyplot as plt\n",
    "\n",
    "from pydmd import DMD, BOPDMD, FbDMD, MrDMD\n",
    "from pydmd.plotter import plot_eigs, plot_summary, plot_modes_2D\n",
    "from pydmd.preprocessing import hankel_preprocessing\n",
    "\n",
    "from IPython.display import display\n",
    "from ipywidgets import interact, interactive, fixed, interact_manual\n",
    "import ipywidgets as widgets\n",
    "\n",
    "from scipy.ndimage import gaussian_filter\n",
    "\n",
    "from tqdm.autonotebook import tqdm, trange\n",
    "\n",
    "from scipy.signal import fftconvolve\n",
    "\n",
    "import sys\n",
    "\n",
    "sys.path.insert(0, '../src/WeatherDMD/')\n",
    "\n",
    "from WeatherDMD.plot_jupyter import contour_compare, contour_data\n",
    "from WeatherDMD.data_wrangle import get_days_before, get_test_set, window_mean\n",
    "from WeatherDMD.dmd_routines import reshape_data2dmd, train_dmd, reshape_Psi2data, eval_dmd\n",
    "\n",
    "import xarray as xr\n",
    "\n",
    "from WeatherDMD import data_pipeline"
   ]
  },
  {
   "cell_type": "markdown",
   "metadata": {},
   "source": [
    "# DATA"
   ]
  },
  {
   "cell_type": "code",
   "execution_count": 2,
   "metadata": {},
   "outputs": [],
   "source": [
    "dSet = data_pipeline.load_data(\"2020-01-01_2020-02-27_era5_slice_resampled.zarr\")  "
   ]
  },
  {
   "cell_type": "code",
   "execution_count": 3,
   "metadata": {},
   "outputs": [
    {
     "data": {
      "text/html": [
       "<div><svg style=\"position: absolute; width: 0; height: 0; overflow: hidden\">\n",
       "<defs>\n",
       "<symbol id=\"icon-database\" viewBox=\"0 0 32 32\">\n",
       "<path d=\"M16 0c-8.837 0-16 2.239-16 5v4c0 2.761 7.163 5 16 5s16-2.239 16-5v-4c0-2.761-7.163-5-16-5z\"></path>\n",
       "<path d=\"M16 17c-8.837 0-16-2.239-16-5v6c0 2.761 7.163 5 16 5s16-2.239 16-5v-6c0 2.761-7.163 5-16 5z\"></path>\n",
       "<path d=\"M16 26c-8.837 0-16-2.239-16-5v6c0 2.761 7.163 5 16 5s16-2.239 16-5v-6c0 2.761-7.163 5-16 5z\"></path>\n",
       "</symbol>\n",
       "<symbol id=\"icon-file-text2\" viewBox=\"0 0 32 32\">\n",
       "<path d=\"M28.681 7.159c-0.694-0.947-1.662-2.053-2.724-3.116s-2.169-2.030-3.116-2.724c-1.612-1.182-2.393-1.319-2.841-1.319h-15.5c-1.378 0-2.5 1.121-2.5 2.5v27c0 1.378 1.122 2.5 2.5 2.5h23c1.378 0 2.5-1.122 2.5-2.5v-19.5c0-0.448-0.137-1.23-1.319-2.841zM24.543 5.457c0.959 0.959 1.712 1.825 2.268 2.543h-4.811v-4.811c0.718 0.556 1.584 1.309 2.543 2.268zM28 29.5c0 0.271-0.229 0.5-0.5 0.5h-23c-0.271 0-0.5-0.229-0.5-0.5v-27c0-0.271 0.229-0.5 0.5-0.5 0 0 15.499-0 15.5 0v7c0 0.552 0.448 1 1 1h7v19.5z\"></path>\n",
       "<path d=\"M23 26h-14c-0.552 0-1-0.448-1-1s0.448-1 1-1h14c0.552 0 1 0.448 1 1s-0.448 1-1 1z\"></path>\n",
       "<path d=\"M23 22h-14c-0.552 0-1-0.448-1-1s0.448-1 1-1h14c0.552 0 1 0.448 1 1s-0.448 1-1 1z\"></path>\n",
       "<path d=\"M23 18h-14c-0.552 0-1-0.448-1-1s0.448-1 1-1h14c0.552 0 1 0.448 1 1s-0.448 1-1 1z\"></path>\n",
       "</symbol>\n",
       "</defs>\n",
       "</svg>\n",
       "<style>/* CSS stylesheet for displaying xarray objects in jupyterlab.\n",
       " *\n",
       " */\n",
       "\n",
       ":root {\n",
       "  --xr-font-color0: var(--jp-content-font-color0, rgba(0, 0, 0, 1));\n",
       "  --xr-font-color2: var(--jp-content-font-color2, rgba(0, 0, 0, 0.54));\n",
       "  --xr-font-color3: var(--jp-content-font-color3, rgba(0, 0, 0, 0.38));\n",
       "  --xr-border-color: var(--jp-border-color2, #e0e0e0);\n",
       "  --xr-disabled-color: var(--jp-layout-color3, #bdbdbd);\n",
       "  --xr-background-color: var(--jp-layout-color0, white);\n",
       "  --xr-background-color-row-even: var(--jp-layout-color1, white);\n",
       "  --xr-background-color-row-odd: var(--jp-layout-color2, #eeeeee);\n",
       "}\n",
       "\n",
       "html[theme=dark],\n",
       "body[data-theme=dark],\n",
       "body.vscode-dark {\n",
       "  --xr-font-color0: rgba(255, 255, 255, 1);\n",
       "  --xr-font-color2: rgba(255, 255, 255, 0.54);\n",
       "  --xr-font-color3: rgba(255, 255, 255, 0.38);\n",
       "  --xr-border-color: #1F1F1F;\n",
       "  --xr-disabled-color: #515151;\n",
       "  --xr-background-color: #111111;\n",
       "  --xr-background-color-row-even: #111111;\n",
       "  --xr-background-color-row-odd: #313131;\n",
       "}\n",
       "\n",
       ".xr-wrap {\n",
       "  display: block !important;\n",
       "  min-width: 300px;\n",
       "  max-width: 700px;\n",
       "}\n",
       "\n",
       ".xr-text-repr-fallback {\n",
       "  /* fallback to plain text repr when CSS is not injected (untrusted notebook) */\n",
       "  display: none;\n",
       "}\n",
       "\n",
       ".xr-header {\n",
       "  padding-top: 6px;\n",
       "  padding-bottom: 6px;\n",
       "  margin-bottom: 4px;\n",
       "  border-bottom: solid 1px var(--xr-border-color);\n",
       "}\n",
       "\n",
       ".xr-header > div,\n",
       ".xr-header > ul {\n",
       "  display: inline;\n",
       "  margin-top: 0;\n",
       "  margin-bottom: 0;\n",
       "}\n",
       "\n",
       ".xr-obj-type,\n",
       ".xr-array-name {\n",
       "  margin-left: 2px;\n",
       "  margin-right: 10px;\n",
       "}\n",
       "\n",
       ".xr-obj-type {\n",
       "  color: var(--xr-font-color2);\n",
       "}\n",
       "\n",
       ".xr-sections {\n",
       "  padding-left: 0 !important;\n",
       "  display: grid;\n",
       "  grid-template-columns: 150px auto auto 1fr 20px 20px;\n",
       "}\n",
       "\n",
       ".xr-section-item {\n",
       "  display: contents;\n",
       "}\n",
       "\n",
       ".xr-section-item input {\n",
       "  display: none;\n",
       "}\n",
       "\n",
       ".xr-section-item input + label {\n",
       "  color: var(--xr-disabled-color);\n",
       "}\n",
       "\n",
       ".xr-section-item input:enabled + label {\n",
       "  cursor: pointer;\n",
       "  color: var(--xr-font-color2);\n",
       "}\n",
       "\n",
       ".xr-section-item input:enabled + label:hover {\n",
       "  color: var(--xr-font-color0);\n",
       "}\n",
       "\n",
       ".xr-section-summary {\n",
       "  grid-column: 1;\n",
       "  color: var(--xr-font-color2);\n",
       "  font-weight: 500;\n",
       "}\n",
       "\n",
       ".xr-section-summary > span {\n",
       "  display: inline-block;\n",
       "  padding-left: 0.5em;\n",
       "}\n",
       "\n",
       ".xr-section-summary-in:disabled + label {\n",
       "  color: var(--xr-font-color2);\n",
       "}\n",
       "\n",
       ".xr-section-summary-in + label:before {\n",
       "  display: inline-block;\n",
       "  content: '►';\n",
       "  font-size: 11px;\n",
       "  width: 15px;\n",
       "  text-align: center;\n",
       "}\n",
       "\n",
       ".xr-section-summary-in:disabled + label:before {\n",
       "  color: var(--xr-disabled-color);\n",
       "}\n",
       "\n",
       ".xr-section-summary-in:checked + label:before {\n",
       "  content: '▼';\n",
       "}\n",
       "\n",
       ".xr-section-summary-in:checked + label > span {\n",
       "  display: none;\n",
       "}\n",
       "\n",
       ".xr-section-summary,\n",
       ".xr-section-inline-details {\n",
       "  padding-top: 4px;\n",
       "  padding-bottom: 4px;\n",
       "}\n",
       "\n",
       ".xr-section-inline-details {\n",
       "  grid-column: 2 / -1;\n",
       "}\n",
       "\n",
       ".xr-section-details {\n",
       "  display: none;\n",
       "  grid-column: 1 / -1;\n",
       "  margin-bottom: 5px;\n",
       "}\n",
       "\n",
       ".xr-section-summary-in:checked ~ .xr-section-details {\n",
       "  display: contents;\n",
       "}\n",
       "\n",
       ".xr-array-wrap {\n",
       "  grid-column: 1 / -1;\n",
       "  display: grid;\n",
       "  grid-template-columns: 20px auto;\n",
       "}\n",
       "\n",
       ".xr-array-wrap > label {\n",
       "  grid-column: 1;\n",
       "  vertical-align: top;\n",
       "}\n",
       "\n",
       ".xr-preview {\n",
       "  color: var(--xr-font-color3);\n",
       "}\n",
       "\n",
       ".xr-array-preview,\n",
       ".xr-array-data {\n",
       "  padding: 0 5px !important;\n",
       "  grid-column: 2;\n",
       "}\n",
       "\n",
       ".xr-array-data,\n",
       ".xr-array-in:checked ~ .xr-array-preview {\n",
       "  display: none;\n",
       "}\n",
       "\n",
       ".xr-array-in:checked ~ .xr-array-data,\n",
       ".xr-array-preview {\n",
       "  display: inline-block;\n",
       "}\n",
       "\n",
       ".xr-dim-list {\n",
       "  display: inline-block !important;\n",
       "  list-style: none;\n",
       "  padding: 0 !important;\n",
       "  margin: 0;\n",
       "}\n",
       "\n",
       ".xr-dim-list li {\n",
       "  display: inline-block;\n",
       "  padding: 0;\n",
       "  margin: 0;\n",
       "}\n",
       "\n",
       ".xr-dim-list:before {\n",
       "  content: '(';\n",
       "}\n",
       "\n",
       ".xr-dim-list:after {\n",
       "  content: ')';\n",
       "}\n",
       "\n",
       ".xr-dim-list li:not(:last-child):after {\n",
       "  content: ',';\n",
       "  padding-right: 5px;\n",
       "}\n",
       "\n",
       ".xr-has-index {\n",
       "  font-weight: bold;\n",
       "}\n",
       "\n",
       ".xr-var-list,\n",
       ".xr-var-item {\n",
       "  display: contents;\n",
       "}\n",
       "\n",
       ".xr-var-item > div,\n",
       ".xr-var-item label,\n",
       ".xr-var-item > .xr-var-name span {\n",
       "  background-color: var(--xr-background-color-row-even);\n",
       "  margin-bottom: 0;\n",
       "}\n",
       "\n",
       ".xr-var-item > .xr-var-name:hover span {\n",
       "  padding-right: 5px;\n",
       "}\n",
       "\n",
       ".xr-var-list > li:nth-child(odd) > div,\n",
       ".xr-var-list > li:nth-child(odd) > label,\n",
       ".xr-var-list > li:nth-child(odd) > .xr-var-name span {\n",
       "  background-color: var(--xr-background-color-row-odd);\n",
       "}\n",
       "\n",
       ".xr-var-name {\n",
       "  grid-column: 1;\n",
       "}\n",
       "\n",
       ".xr-var-dims {\n",
       "  grid-column: 2;\n",
       "}\n",
       "\n",
       ".xr-var-dtype {\n",
       "  grid-column: 3;\n",
       "  text-align: right;\n",
       "  color: var(--xr-font-color2);\n",
       "}\n",
       "\n",
       ".xr-var-preview {\n",
       "  grid-column: 4;\n",
       "}\n",
       "\n",
       ".xr-index-preview {\n",
       "  grid-column: 2 / 5;\n",
       "  color: var(--xr-font-color2);\n",
       "}\n",
       "\n",
       ".xr-var-name,\n",
       ".xr-var-dims,\n",
       ".xr-var-dtype,\n",
       ".xr-preview,\n",
       ".xr-attrs dt {\n",
       "  white-space: nowrap;\n",
       "  overflow: hidden;\n",
       "  text-overflow: ellipsis;\n",
       "  padding-right: 10px;\n",
       "}\n",
       "\n",
       ".xr-var-name:hover,\n",
       ".xr-var-dims:hover,\n",
       ".xr-var-dtype:hover,\n",
       ".xr-attrs dt:hover {\n",
       "  overflow: visible;\n",
       "  width: auto;\n",
       "  z-index: 1;\n",
       "}\n",
       "\n",
       ".xr-var-attrs,\n",
       ".xr-var-data,\n",
       ".xr-index-data {\n",
       "  display: none;\n",
       "  background-color: var(--xr-background-color) !important;\n",
       "  padding-bottom: 5px !important;\n",
       "}\n",
       "\n",
       ".xr-var-attrs-in:checked ~ .xr-var-attrs,\n",
       ".xr-var-data-in:checked ~ .xr-var-data,\n",
       ".xr-index-data-in:checked ~ .xr-index-data {\n",
       "  display: block;\n",
       "}\n",
       "\n",
       ".xr-var-data > table {\n",
       "  float: right;\n",
       "}\n",
       "\n",
       ".xr-var-name span,\n",
       ".xr-var-data,\n",
       ".xr-index-name div,\n",
       ".xr-index-data,\n",
       ".xr-attrs {\n",
       "  padding-left: 25px !important;\n",
       "}\n",
       "\n",
       ".xr-attrs,\n",
       ".xr-var-attrs,\n",
       ".xr-var-data,\n",
       ".xr-index-data {\n",
       "  grid-column: 1 / -1;\n",
       "}\n",
       "\n",
       "dl.xr-attrs {\n",
       "  padding: 0;\n",
       "  margin: 0;\n",
       "  display: grid;\n",
       "  grid-template-columns: 125px auto;\n",
       "}\n",
       "\n",
       ".xr-attrs dt,\n",
       ".xr-attrs dd {\n",
       "  padding: 0;\n",
       "  margin: 0;\n",
       "  float: left;\n",
       "  padding-right: 10px;\n",
       "  width: auto;\n",
       "}\n",
       "\n",
       ".xr-attrs dt {\n",
       "  font-weight: normal;\n",
       "  grid-column: 1;\n",
       "}\n",
       "\n",
       ".xr-attrs dt:hover span {\n",
       "  display: inline-block;\n",
       "  background: var(--xr-background-color);\n",
       "  padding-right: 10px;\n",
       "}\n",
       "\n",
       ".xr-attrs dd {\n",
       "  grid-column: 2;\n",
       "  white-space: pre-wrap;\n",
       "  word-break: break-all;\n",
       "}\n",
       "\n",
       ".xr-icon-database,\n",
       ".xr-icon-file-text2,\n",
       ".xr-no-icon {\n",
       "  display: inline-block;\n",
       "  vertical-align: middle;\n",
       "  width: 1em;\n",
       "  height: 1.5em !important;\n",
       "  stroke-width: 0;\n",
       "  stroke: currentColor;\n",
       "  fill: currentColor;\n",
       "}\n",
       "</style><pre class='xr-text-repr-fallback'>&lt;xarray.Dataset&gt; Size: 724MB\n",
       "Dimensions:              (time: 232, level: 1, latitude: 361, longitude: 720)\n",
       "Coordinates:\n",
       "  * latitude             (latitude) float32 1kB 90.0 89.5 89.0 ... -89.5 -90.0\n",
       "  * level                (level) int64 8B 1000\n",
       "  * longitude            (longitude) float32 3kB 0.0 0.5 1.0 ... 359.0 359.5\n",
       "  * time                 (time) datetime64[ns] 2kB 2020-01-01 ... 2020-02-27T...\n",
       "Data variables:\n",
       "    geopotential         (time, level, latitude, longitude) float32 241MB ...\n",
       "    temperature          (time, level, latitude, longitude) float32 241MB ...\n",
       "    u_component_of_wind  (time, level, latitude, longitude) float32 241MB ...</pre><div class='xr-wrap' style='display:none'><div class='xr-header'><div class='xr-obj-type'>xarray.Dataset</div></div><ul class='xr-sections'><li class='xr-section-item'><input id='section-54128bba-7ace-4b21-bdab-fe5b010219a8' class='xr-section-summary-in' type='checkbox' disabled ><label for='section-54128bba-7ace-4b21-bdab-fe5b010219a8' class='xr-section-summary'  title='Expand/collapse section'>Dimensions:</label><div class='xr-section-inline-details'><ul class='xr-dim-list'><li><span class='xr-has-index'>time</span>: 232</li><li><span class='xr-has-index'>level</span>: 1</li><li><span class='xr-has-index'>latitude</span>: 361</li><li><span class='xr-has-index'>longitude</span>: 720</li></ul></div><div class='xr-section-details'></div></li><li class='xr-section-item'><input id='section-d48c82d7-70a3-48ce-befe-2c41c1e5c2df' class='xr-section-summary-in' type='checkbox'  checked><label for='section-d48c82d7-70a3-48ce-befe-2c41c1e5c2df' class='xr-section-summary' >Coordinates: <span>(4)</span></label><div class='xr-section-inline-details'></div><div class='xr-section-details'><ul class='xr-var-list'><li class='xr-var-item'><div class='xr-var-name'><span class='xr-has-index'>latitude</span></div><div class='xr-var-dims'>(latitude)</div><div class='xr-var-dtype'>float32</div><div class='xr-var-preview xr-preview'>90.0 89.5 89.0 ... -89.5 -90.0</div><input id='attrs-2f2b21a6-611b-42be-be05-ae42a3583d92' class='xr-var-attrs-in' type='checkbox' ><label for='attrs-2f2b21a6-611b-42be-be05-ae42a3583d92' title='Show/Hide attributes'><svg class='icon xr-icon-file-text2'><use xlink:href='#icon-file-text2'></use></svg></label><input id='data-2eb9e47f-4fe4-4ceb-b2b1-b354de4bdcb8' class='xr-var-data-in' type='checkbox'><label for='data-2eb9e47f-4fe4-4ceb-b2b1-b354de4bdcb8' title='Show/Hide data repr'><svg class='icon xr-icon-database'><use xlink:href='#icon-database'></use></svg></label><div class='xr-var-attrs'><dl class='xr-attrs'><dt><span>long_name :</span></dt><dd>latitude</dd><dt><span>units :</span></dt><dd>degrees_north</dd></dl></div><div class='xr-var-data'><pre>array([ 90. ,  89.5,  89. , ..., -89. , -89.5, -90. ], dtype=float32)</pre></div></li><li class='xr-var-item'><div class='xr-var-name'><span class='xr-has-index'>level</span></div><div class='xr-var-dims'>(level)</div><div class='xr-var-dtype'>int64</div><div class='xr-var-preview xr-preview'>1000</div><input id='attrs-a4d68e3d-a760-4015-9f00-25765e0e2b20' class='xr-var-attrs-in' type='checkbox' disabled><label for='attrs-a4d68e3d-a760-4015-9f00-25765e0e2b20' title='Show/Hide attributes'><svg class='icon xr-icon-file-text2'><use xlink:href='#icon-file-text2'></use></svg></label><input id='data-32821a6f-ec39-49e6-ac9a-f9990b5e8329' class='xr-var-data-in' type='checkbox'><label for='data-32821a6f-ec39-49e6-ac9a-f9990b5e8329' title='Show/Hide data repr'><svg class='icon xr-icon-database'><use xlink:href='#icon-database'></use></svg></label><div class='xr-var-attrs'><dl class='xr-attrs'></dl></div><div class='xr-var-data'><pre>array([1000])</pre></div></li><li class='xr-var-item'><div class='xr-var-name'><span class='xr-has-index'>longitude</span></div><div class='xr-var-dims'>(longitude)</div><div class='xr-var-dtype'>float32</div><div class='xr-var-preview xr-preview'>0.0 0.5 1.0 ... 358.5 359.0 359.5</div><input id='attrs-f2b84a44-7a60-4822-9ee1-919c11f1dda2' class='xr-var-attrs-in' type='checkbox' ><label for='attrs-f2b84a44-7a60-4822-9ee1-919c11f1dda2' title='Show/Hide attributes'><svg class='icon xr-icon-file-text2'><use xlink:href='#icon-file-text2'></use></svg></label><input id='data-d74f050d-97ba-4bf4-befb-fd77f626e5a5' class='xr-var-data-in' type='checkbox'><label for='data-d74f050d-97ba-4bf4-befb-fd77f626e5a5' title='Show/Hide data repr'><svg class='icon xr-icon-database'><use xlink:href='#icon-database'></use></svg></label><div class='xr-var-attrs'><dl class='xr-attrs'><dt><span>long_name :</span></dt><dd>longitude</dd><dt><span>units :</span></dt><dd>degrees_east</dd></dl></div><div class='xr-var-data'><pre>array([  0. ,   0.5,   1. , ..., 358.5, 359. , 359.5], dtype=float32)</pre></div></li><li class='xr-var-item'><div class='xr-var-name'><span class='xr-has-index'>time</span></div><div class='xr-var-dims'>(time)</div><div class='xr-var-dtype'>datetime64[ns]</div><div class='xr-var-preview xr-preview'>2020-01-01 ... 2020-02-27T18:00:00</div><input id='attrs-9389c99f-a233-4b4c-94e0-149eed2104bb' class='xr-var-attrs-in' type='checkbox' disabled><label for='attrs-9389c99f-a233-4b4c-94e0-149eed2104bb' title='Show/Hide attributes'><svg class='icon xr-icon-file-text2'><use xlink:href='#icon-file-text2'></use></svg></label><input id='data-9b87b527-dac6-4eaf-b754-020c3186b40d' class='xr-var-data-in' type='checkbox'><label for='data-9b87b527-dac6-4eaf-b754-020c3186b40d' title='Show/Hide data repr'><svg class='icon xr-icon-database'><use xlink:href='#icon-database'></use></svg></label><div class='xr-var-attrs'><dl class='xr-attrs'></dl></div><div class='xr-var-data'><pre>array([&#x27;2020-01-01T00:00:00.000000000&#x27;, &#x27;2020-01-01T06:00:00.000000000&#x27;,\n",
       "       &#x27;2020-01-01T12:00:00.000000000&#x27;, ..., &#x27;2020-02-27T06:00:00.000000000&#x27;,\n",
       "       &#x27;2020-02-27T12:00:00.000000000&#x27;, &#x27;2020-02-27T18:00:00.000000000&#x27;],\n",
       "      dtype=&#x27;datetime64[ns]&#x27;)</pre></div></li></ul></div></li><li class='xr-section-item'><input id='section-eb754d61-d3d6-478c-ba6a-e1df5fba532a' class='xr-section-summary-in' type='checkbox'  checked><label for='section-eb754d61-d3d6-478c-ba6a-e1df5fba532a' class='xr-section-summary' >Data variables: <span>(3)</span></label><div class='xr-section-inline-details'></div><div class='xr-section-details'><ul class='xr-var-list'><li class='xr-var-item'><div class='xr-var-name'><span>geopotential</span></div><div class='xr-var-dims'>(time, level, latitude, longitude)</div><div class='xr-var-dtype'>float32</div><div class='xr-var-preview xr-preview'>...</div><input id='attrs-a24a9256-9b80-490c-aeb2-f714565ea77c' class='xr-var-attrs-in' type='checkbox' ><label for='attrs-a24a9256-9b80-490c-aeb2-f714565ea77c' title='Show/Hide attributes'><svg class='icon xr-icon-file-text2'><use xlink:href='#icon-file-text2'></use></svg></label><input id='data-d8c731cb-5a97-4734-a89d-1f2eb258ede5' class='xr-var-data-in' type='checkbox'><label for='data-d8c731cb-5a97-4734-a89d-1f2eb258ede5' title='Show/Hide data repr'><svg class='icon xr-icon-database'><use xlink:href='#icon-database'></use></svg></label><div class='xr-var-attrs'><dl class='xr-attrs'><dt><span>long_name :</span></dt><dd>Geopotential</dd><dt><span>short_name :</span></dt><dd>z</dd><dt><span>standard_name :</span></dt><dd>geopotential</dd><dt><span>units :</span></dt><dd>m**2 s**-2</dd></dl></div><div class='xr-var-data'><pre>[60301440 values with dtype=float32]</pre></div></li><li class='xr-var-item'><div class='xr-var-name'><span>temperature</span></div><div class='xr-var-dims'>(time, level, latitude, longitude)</div><div class='xr-var-dtype'>float32</div><div class='xr-var-preview xr-preview'>...</div><input id='attrs-bfbabef7-7b01-4545-bd9d-9641da74c69c' class='xr-var-attrs-in' type='checkbox' ><label for='attrs-bfbabef7-7b01-4545-bd9d-9641da74c69c' title='Show/Hide attributes'><svg class='icon xr-icon-file-text2'><use xlink:href='#icon-file-text2'></use></svg></label><input id='data-9b14f550-c32f-4fac-9641-b41b2d35f824' class='xr-var-data-in' type='checkbox'><label for='data-9b14f550-c32f-4fac-9641-b41b2d35f824' title='Show/Hide data repr'><svg class='icon xr-icon-database'><use xlink:href='#icon-database'></use></svg></label><div class='xr-var-attrs'><dl class='xr-attrs'><dt><span>long_name :</span></dt><dd>Temperature</dd><dt><span>short_name :</span></dt><dd>t</dd><dt><span>standard_name :</span></dt><dd>air_temperature</dd><dt><span>units :</span></dt><dd>K</dd></dl></div><div class='xr-var-data'><pre>[60301440 values with dtype=float32]</pre></div></li><li class='xr-var-item'><div class='xr-var-name'><span>u_component_of_wind</span></div><div class='xr-var-dims'>(time, level, latitude, longitude)</div><div class='xr-var-dtype'>float32</div><div class='xr-var-preview xr-preview'>...</div><input id='attrs-51c5e525-3a81-4274-934c-057e9bb4efc2' class='xr-var-attrs-in' type='checkbox' ><label for='attrs-51c5e525-3a81-4274-934c-057e9bb4efc2' title='Show/Hide attributes'><svg class='icon xr-icon-file-text2'><use xlink:href='#icon-file-text2'></use></svg></label><input id='data-7e02257d-69e7-4882-8e90-86883ddcddb3' class='xr-var-data-in' type='checkbox'><label for='data-7e02257d-69e7-4882-8e90-86883ddcddb3' title='Show/Hide data repr'><svg class='icon xr-icon-database'><use xlink:href='#icon-database'></use></svg></label><div class='xr-var-attrs'><dl class='xr-attrs'><dt><span>long_name :</span></dt><dd>U component of wind</dd><dt><span>short_name :</span></dt><dd>u</dd><dt><span>standard_name :</span></dt><dd>eastward_wind</dd><dt><span>units :</span></dt><dd>m s**-1</dd></dl></div><div class='xr-var-data'><pre>[60301440 values with dtype=float32]</pre></div></li></ul></div></li><li class='xr-section-item'><input id='section-8f5f0b73-619c-4b1c-9c84-b15ff59033d0' class='xr-section-summary-in' type='checkbox'  ><label for='section-8f5f0b73-619c-4b1c-9c84-b15ff59033d0' class='xr-section-summary' >Indexes: <span>(4)</span></label><div class='xr-section-inline-details'></div><div class='xr-section-details'><ul class='xr-var-list'><li class='xr-var-item'><div class='xr-index-name'><div>latitude</div></div><div class='xr-index-preview'>PandasIndex</div><div></div><input id='index-933dde95-1e16-4dad-901c-43127319676d' class='xr-index-data-in' type='checkbox'/><label for='index-933dde95-1e16-4dad-901c-43127319676d' title='Show/Hide index repr'><svg class='icon xr-icon-database'><use xlink:href='#icon-database'></use></svg></label><div class='xr-index-data'><pre>PandasIndex(Index([ 90.0,  89.5,  89.0,  88.5,  88.0,  87.5,  87.0,  86.5,  86.0,  85.5,\n",
       "       ...\n",
       "       -85.5, -86.0, -86.5, -87.0, -87.5, -88.0, -88.5, -89.0, -89.5, -90.0],\n",
       "      dtype=&#x27;float32&#x27;, name=&#x27;latitude&#x27;, length=361))</pre></div></li><li class='xr-var-item'><div class='xr-index-name'><div>level</div></div><div class='xr-index-preview'>PandasIndex</div><div></div><input id='index-d4d00ba5-a183-41c0-81da-7a12a5af12eb' class='xr-index-data-in' type='checkbox'/><label for='index-d4d00ba5-a183-41c0-81da-7a12a5af12eb' title='Show/Hide index repr'><svg class='icon xr-icon-database'><use xlink:href='#icon-database'></use></svg></label><div class='xr-index-data'><pre>PandasIndex(Index([1000], dtype=&#x27;int64&#x27;, name=&#x27;level&#x27;))</pre></div></li><li class='xr-var-item'><div class='xr-index-name'><div>longitude</div></div><div class='xr-index-preview'>PandasIndex</div><div></div><input id='index-5b474ea5-da6a-465b-a8bd-41764b28ebd6' class='xr-index-data-in' type='checkbox'/><label for='index-5b474ea5-da6a-465b-a8bd-41764b28ebd6' title='Show/Hide index repr'><svg class='icon xr-icon-database'><use xlink:href='#icon-database'></use></svg></label><div class='xr-index-data'><pre>PandasIndex(Index([  0.0,   0.5,   1.0,   1.5,   2.0,   2.5,   3.0,   3.5,   4.0,   4.5,\n",
       "       ...\n",
       "       355.0, 355.5, 356.0, 356.5, 357.0, 357.5, 358.0, 358.5, 359.0, 359.5],\n",
       "      dtype=&#x27;float32&#x27;, name=&#x27;longitude&#x27;, length=720))</pre></div></li><li class='xr-var-item'><div class='xr-index-name'><div>time</div></div><div class='xr-index-preview'>PandasIndex</div><div></div><input id='index-64322bd5-1e7c-4132-b4ed-abe64ccfa531' class='xr-index-data-in' type='checkbox'/><label for='index-64322bd5-1e7c-4132-b4ed-abe64ccfa531' title='Show/Hide index repr'><svg class='icon xr-icon-database'><use xlink:href='#icon-database'></use></svg></label><div class='xr-index-data'><pre>PandasIndex(DatetimeIndex([&#x27;2020-01-01 00:00:00&#x27;, &#x27;2020-01-01 06:00:00&#x27;,\n",
       "               &#x27;2020-01-01 12:00:00&#x27;, &#x27;2020-01-01 18:00:00&#x27;,\n",
       "               &#x27;2020-01-02 00:00:00&#x27;, &#x27;2020-01-02 06:00:00&#x27;,\n",
       "               &#x27;2020-01-02 12:00:00&#x27;, &#x27;2020-01-02 18:00:00&#x27;,\n",
       "               &#x27;2020-01-03 00:00:00&#x27;, &#x27;2020-01-03 06:00:00&#x27;,\n",
       "               ...\n",
       "               &#x27;2020-02-25 12:00:00&#x27;, &#x27;2020-02-25 18:00:00&#x27;,\n",
       "               &#x27;2020-02-26 00:00:00&#x27;, &#x27;2020-02-26 06:00:00&#x27;,\n",
       "               &#x27;2020-02-26 12:00:00&#x27;, &#x27;2020-02-26 18:00:00&#x27;,\n",
       "               &#x27;2020-02-27 00:00:00&#x27;, &#x27;2020-02-27 06:00:00&#x27;,\n",
       "               &#x27;2020-02-27 12:00:00&#x27;, &#x27;2020-02-27 18:00:00&#x27;],\n",
       "              dtype=&#x27;datetime64[ns]&#x27;, name=&#x27;time&#x27;, length=232, freq=None))</pre></div></li></ul></div></li><li class='xr-section-item'><input id='section-77e2a50a-fa19-4d6a-9c71-5f261c81bdb0' class='xr-section-summary-in' type='checkbox' disabled ><label for='section-77e2a50a-fa19-4d6a-9c71-5f261c81bdb0' class='xr-section-summary'  title='Expand/collapse section'>Attributes: <span>(0)</span></label><div class='xr-section-inline-details'></div><div class='xr-section-details'><dl class='xr-attrs'></dl></div></li></ul></div></div>"
      ],
      "text/plain": [
       "<xarray.Dataset> Size: 724MB\n",
       "Dimensions:              (time: 232, level: 1, latitude: 361, longitude: 720)\n",
       "Coordinates:\n",
       "  * latitude             (latitude) float32 1kB 90.0 89.5 89.0 ... -89.5 -90.0\n",
       "  * level                (level) int64 8B 1000\n",
       "  * longitude            (longitude) float32 3kB 0.0 0.5 1.0 ... 359.0 359.5\n",
       "  * time                 (time) datetime64[ns] 2kB 2020-01-01 ... 2020-02-27T...\n",
       "Data variables:\n",
       "    geopotential         (time, level, latitude, longitude) float32 241MB ...\n",
       "    temperature          (time, level, latitude, longitude) float32 241MB ...\n",
       "    u_component_of_wind  (time, level, latitude, longitude) float32 241MB ..."
      ]
     },
     "execution_count": 3,
     "metadata": {},
     "output_type": "execute_result"
    }
   ],
   "source": [
    "dSet"
   ]
  },
  {
   "cell_type": "code",
   "execution_count": 4,
   "metadata": {},
   "outputs": [
    {
     "name": "stdout",
     "output_type": "stream",
     "text": [
      "The unique delta time is 6.0 hours\n"
     ]
    }
   ],
   "source": [
    "# calculate the unique delta time in hours\n",
    "delta_time = np.unique(np.diff(dSet.time))\n",
    "delta_time_hrs = delta_time/np.timedelta64(1, 'h')\n",
    "delta_time_hrs = delta_time_hrs[0]\n",
    "print(f\"The unique delta time is {delta_time_hrs} hours\")"
   ]
  },
  {
   "cell_type": "code",
   "execution_count": 5,
   "metadata": {},
   "outputs": [],
   "source": [
    "# currently the number of points in lat and lon need to be the same for this pipeline to work\n",
    "lat_min = dSet[\"latitude\"].values[0]\n",
    "lat_max = dSet[\"latitude\"].values[-1]\n",
    "lon_min = dSet[\"longitude\"].values[180]\n",
    "lon_max = dSet[\"longitude\"].values[540] \n",
    "data, attrs, coords, dims = data_pipeline.dataset_to_array(\n",
    "    dSet, variable=\"temperature\", downsample=2, subregion=(lat_min, lat_max, lon_min, lon_max) \n",
    ")"
   ]
  },
  {
   "cell_type": "code",
   "execution_count": 6,
   "metadata": {},
   "outputs": [
    {
     "data": {
      "text/plain": [
       "(232, 180, 180)"
      ]
     },
     "execution_count": 6,
     "metadata": {},
     "output_type": "execute_result"
    }
   ],
   "source": [
    "data.shape"
   ]
  },
  {
   "cell_type": "code",
   "execution_count": 7,
   "metadata": {},
   "outputs": [
    {
     "data": {
      "text/plain": [
       "Coordinates:\n",
       "  * latitude   (latitude) float32 720B 89.75 88.75 87.75 ... -88.25 -89.25\n",
       "    level      int64 8B 1000\n",
       "  * longitude  (longitude) float32 720B 90.25 91.25 92.25 ... 267.2 268.2 269.2\n",
       "  * time       (time) datetime64[ns] 2kB 2020-01-01 ... 2020-02-27T18:00:00"
      ]
     },
     "execution_count": 7,
     "metadata": {},
     "output_type": "execute_result"
    }
   ],
   "source": [
    "coords"
   ]
  },
  {
   "cell_type": "code",
   "execution_count": 8,
   "metadata": {},
   "outputs": [],
   "source": [
    "DATA = np.array(data)[None, ...]"
   ]
  },
  {
   "cell_type": "code",
   "execution_count": 9,
   "metadata": {},
   "outputs": [
    {
     "data": {
      "text/plain": [
       "(1, 232, 180, 180)"
      ]
     },
     "execution_count": 9,
     "metadata": {},
     "output_type": "execute_result"
    }
   ],
   "source": [
    "DATA.shape"
   ]
  },
  {
   "cell_type": "code",
   "execution_count": 10,
   "metadata": {},
   "outputs": [
    {
     "data": {
      "application/vnd.jupyter.widget-view+json": {
       "model_id": "8d7eec3d04c44f7ba2ebdcd2cf98f10a",
       "version_major": 2,
       "version_minor": 0
      },
      "text/plain": [
       "interactive(children=(IntSlider(value=0, description='f_i(x,y)', max=231), IntSlider(value=90, description='f_…"
      ]
     },
     "execution_count": 10,
     "metadata": {},
     "output_type": "execute_result"
    }
   ],
   "source": [
    "contour_data(data)"
   ]
  },
  {
   "cell_type": "code",
   "execution_count": 11,
   "metadata": {},
   "outputs": [],
   "source": [
    "x = np.linspace(0, 1, data.shape[2])\n",
    "y = np.linspace(0, 1, data.shape[1])"
   ]
  },
  {
   "cell_type": "code",
   "execution_count": 12,
   "metadata": {},
   "outputs": [],
   "source": [
    "# compute the integral of the field along the x and y axis (across space)\n",
    "Integral_eval = np.trapz(np.trapz(data, x, axis = 2), y, axis = 1)"
   ]
  },
  {
   "cell_type": "code",
   "execution_count": 13,
   "metadata": {},
   "outputs": [
    {
     "data": {
      "text/plain": [
       "Text(0, 0.5, 'Integral of the field')"
      ]
     },
     "execution_count": 13,
     "metadata": {},
     "output_type": "execute_result"
    },
    {
     "data": {
      "image/png": "[encoded data removed]",
      "text/plain": [
       "<Figure size 640x480 with 1 Axes>"
      ]
     },
     "metadata": {},
     "output_type": "display_data"
    }
   ],
   "source": [
    "fig, ax = plt.subplots()\n",
    "plt.plot(Integral_eval, '.-')\n",
    "plt.xlabel('Time step')\n",
    "plt.ylabel('Integral of the field')"
   ]
  },
  {
   "cell_type": "markdown",
   "metadata": {},
   "source": [
    "## Train optimised DMD\n",
    "\n",
    "DMD does not really require batching the data in the deep-AI sense. We simply need to select a training interval and fit DMD. After fitting, DMD model with fitted parameters can be used for prediction on any time interval. \n",
    "\n",
    "1. Identify a starting point in time by `year`, `day` \n",
    "2. Identify, how many days to train on: `T_train`\n",
    "3. Select subset of `DATA`, based on the above. Perform window-averaging to de-noise it. \n",
    "4. Fit DMD. \n",
    "5. Compute DMD predictions from `year`, `day` forward. "
   ]
  },
  {
   "cell_type": "code",
   "execution_count": 14,
   "metadata": {},
   "outputs": [
    {
     "data": {
      "text/plain": [
       "(232, 180, 180)"
      ]
     },
     "execution_count": 14,
     "metadata": {},
     "output_type": "execute_result"
    }
   ],
   "source": [
    "DATA[0].shape"
   ]
  },
  {
   "cell_type": "code",
   "execution_count": 15,
   "metadata": {},
   "outputs": [
    {
     "data": {
      "text/plain": [
       "1"
      ]
     },
     "execution_count": 15,
     "metadata": {},
     "output_type": "execute_result"
    }
   ],
   "source": [
    "len(DATA)"
   ]
  },
  {
   "cell_type": "code",
   "execution_count": 16,
   "metadata": {},
   "outputs": [
    {
     "data": {
      "text/plain": [
       "(109, 180, 180)"
      ]
     },
     "execution_count": 16,
     "metadata": {},
     "output_type": "execute_result"
    }
   ],
   "source": [
    "# get training data\n",
    "year = 0\n",
    "day = 150\n",
    "\n",
    "window = 10\n",
    "T_train = 100\n",
    "\n",
    "X0_ = get_days_before(DATA, year, day, T_train+window-1)\n",
    "X0_.shape"
   ]
  },
  {
   "cell_type": "code",
   "execution_count": 17,
   "metadata": {},
   "outputs": [
    {
     "data": {
      "text/plain": [
       "True"
      ]
     },
     "execution_count": 17,
     "metadata": {},
     "output_type": "execute_result"
    }
   ],
   "source": [
    "(X0_ == data[day-T_train-window+1:day, :, :]).all()"
   ]
  },
  {
   "cell_type": "code",
   "execution_count": 18,
   "metadata": {},
   "outputs": [
    {
     "data": {
      "text/plain": [
       "109"
      ]
     },
     "execution_count": 18,
     "metadata": {},
     "output_type": "execute_result"
    }
   ],
   "source": [
    "timestamps = coords[\"time\"][day-T_train-window+1:day]\n",
    "len(timestamps)"
   ]
  },
  {
   "cell_type": "code",
   "execution_count": 19,
   "metadata": {},
   "outputs": [
    {
     "data": {
      "text/plain": [
       "((109, 180, 180), (100, 180, 180), (100,))"
      ]
     },
     "execution_count": 19,
     "metadata": {},
     "output_type": "execute_result"
    }
   ],
   "source": [
    "# compute windowed mean. Returns T_train snapshots before current time point (not inclusive)\n",
    "X0, timestamps_windowed = window_mean(X0_, window = window, t = timestamps)\n",
    "X0_.shape, X0.shape, timestamps_windowed.shape"
   ]
  },
  {
   "cell_type": "code",
   "execution_count": 20,
   "metadata": {},
   "outputs": [
    {
     "data": {
      "application/vnd.jupyter.widget-view+json": {
       "model_id": "3395e06ba9ad4c4aadbad6e39b276171",
       "version_major": 2,
       "version_minor": 0
      },
      "text/plain": [
       "interactive(children=(IntSlider(value=0, description='f_i(x,y)', max=99), IntSlider(value=90, description='f_i…"
      ]
     },
     "execution_count": 20,
     "metadata": {},
     "output_type": "execute_result"
    }
   ],
   "source": [
    "contour_compare(X0_[window-1:], X0)"
   ]
  },
  {
   "cell_type": "code",
   "execution_count": 21,
   "metadata": {},
   "outputs": [
    {
     "name": "stderr",
     "output_type": "stream",
     "text": [
      "/Users/dsalvadorjasin/Documents/projects/MetOffice/DMD/DMD/.venv/lib/python3.11/site-packages/pydmd/snapshots.py:73: UserWarning: Input data condition number 436913.488457258. Consider preprocessing data, passing in augmented data\n",
      "matrix, or regularization methods.\n",
      "  warnings.warn(\n",
      "/Users/dsalvadorjasin/Documents/projects/MetOffice/DMD/DMD/.venv/lib/python3.11/site-packages/pydmd/bopdmd.py:751: UserWarning: Initial trial of Optimized DMD failed to converge. Consider re-adjusting your variable projection parameters with the varpro_opts_dict and consider setting verbose=True.\n",
      "  warnings.warn(msg)\n"
     ]
    }
   ],
   "source": [
    "rank = 3\n",
    "t = np.arange(-T_train, 0)\n",
    "\n",
    "# time delay and dmd snapshots\n",
    "X_delayed, t_delayed, data_shape = reshape_data2dmd(X0, t, time_delay = 2, \n",
    "                                                     mask = None,\n",
    "                                                    isKeepFirstTimes = True)\n",
    "# train dmd\n",
    "Lambda, Psi_, bn = train_dmd(X_delayed, t_delayed, rank = rank)\n",
    "\n",
    "Psi = reshape_Psi2data(Psi_, data_shape, mask = None)"
   ]
  },
  {
   "cell_type": "code",
   "execution_count": 22,
   "metadata": {},
   "outputs": [
    {
     "data": {
      "text/plain": [
       "(3, 180, 180)"
      ]
     },
     "execution_count": 22,
     "metadata": {},
     "output_type": "execute_result"
    }
   ],
   "source": [
    "Psi.shape"
   ]
  },
  {
   "cell_type": "code",
   "execution_count": 23,
   "metadata": {},
   "outputs": [
    {
     "data": {
      "text/plain": [
       "109"
      ]
     },
     "execution_count": 23,
     "metadata": {},
     "output_type": "execute_result"
    }
   ],
   "source": [
    "T_train + window - 1"
   ]
  },
  {
   "cell_type": "code",
   "execution_count": 24,
   "metadata": {},
   "outputs": [],
   "source": [
    "t = np.arange(-T_train, T_train)\n",
    "# extend the windowed timestamps to include the future\n",
    "timestamps_windowed = np.concatenate((timestamps_windowed, timestamps_windowed.values[-1] + np.arange(1, T_train+1)*delta_time))\n",
    "# true_after = get_test_set(DATA, year, day, window, T_train + window -1)\n",
    "true_after = get_test_set(DATA, year, day, window, T_train)\n",
    "X_true = np.concatenate((X0, true_after), axis = 0)\n",
    "\n",
    "X_eval = eval_dmd(Lambda, Psi, bn, t)"
   ]
  },
  {
   "cell_type": "code",
   "execution_count": 25,
   "metadata": {},
   "outputs": [],
   "source": [
    "# make X_true and X_eval the same number of time points\n",
    "if X_true.shape[0] > X_eval.shape[0]:\n",
    "    X_true = X_true[:X_eval.shape[0], :, :]\n",
    "elif X_true.shape[0] < X_eval.shape[0]:\n",
    "    X_eval = X_eval[:X_true.shape[0], :, :]\n",
    "    t = t[:X_true.shape[0]]\n",
    "    timestamps_windowed = timestamps_windowed[:X_true.shape[0]]"
   ]
  },
  {
   "cell_type": "code",
   "execution_count": 26,
   "metadata": {},
   "outputs": [
    {
     "data": {
      "text/plain": [
       "<matplotlib.legend.Legend at 0x29fc9e010>"
      ]
     },
     "execution_count": 26,
     "metadata": {},
     "output_type": "execute_result"
    },
    {
     "data": {
      "image/png": "[encoded data removed]",
      "text/plain": [
       "<Figure size 640x480 with 1 Axes>"
      ]
     },
     "metadata": {},
     "output_type": "display_data"
    }
   ],
   "source": [
    "# COMPUTE METRIC OF PREDICTION\n",
    "Integral_eval = np.trapz(np.trapz(X_eval, x, axis = 2), y, axis = 1)\n",
    "Integral_true = np.trapz(np.trapz(X_true, x, axis = 2), y, axis = 1)\n",
    "\n",
    "plt.plot(t, Integral_eval.T, color = 'grey')\n",
    "plt.plot(t, Integral_true, label = 'true total', color = 'r')\n",
    "plt.axvline(0, linestyle = '--', color = 'k')\n",
    "\n",
    "plt.ylabel('total')\n",
    "plt.xlabel('days')\n",
    "\n",
    "plt.legend(loc = 'upper right')"
   ]
  },
  {
   "cell_type": "code",
   "execution_count": 27,
   "metadata": {},
   "outputs": [
    {
     "data": {
      "application/vnd.jupyter.widget-view+json": {
       "model_id": "a586948a33814fc3b72563f9fcc2fc4d",
       "version_major": 2,
       "version_minor": 0
      },
      "text/plain": [
       "interactive(children=(IntSlider(value=0, description='f_i(x,y)', max=181), IntSlider(value=90, description='f_…"
      ]
     },
     "execution_count": 27,
     "metadata": {},
     "output_type": "execute_result"
    }
   ],
   "source": [
    "contour_compare(X_true, X_eval)"
   ]
  },
  {
   "cell_type": "code",
   "execution_count": 28,
   "metadata": {},
   "outputs": [],
   "source": [
    "rmse = np.linalg.norm(X_true - X_eval, axis = (1, 2)) / (X_true.shape[1] * X_true.shape[2])"
   ]
  },
  {
   "cell_type": "code",
   "execution_count": 29,
   "metadata": {},
   "outputs": [
    {
     "data": {
      "text/plain": [
       "(182,)"
      ]
     },
     "execution_count": 29,
     "metadata": {},
     "output_type": "execute_result"
    }
   ],
   "source": [
    "rmse.shape"
   ]
  },
  {
   "cell_type": "code",
   "execution_count": 30,
   "metadata": {},
   "outputs": [
    {
     "data": {
      "text/plain": [
       "Text(0, 0.5, 'RMSE (%)')"
      ]
     },
     "execution_count": 30,
     "metadata": {},
     "output_type": "execute_result"
    },
    {
     "data": {
      "image/png": "[encoded data removed]",
      "text/plain": [
       "<Figure size 640x480 with 1 Axes>"
      ]
     },
     "metadata": {},
     "output_type": "display_data"
    }
   ],
   "source": [
    "time_vector = np.arange(0, len(rmse))*delta_time_hrs\n",
    "plt.plot(time_vector, rmse*100, '.-')\n",
    "# add a vertical line at the time when the prediction starts\n",
    "plt.axvline(T_train*delta_time_hrs, linestyle = '--', color = 'r')\n",
    "plt.xlabel('Time (hours)')\n",
    "plt.ylabel('RMSE (%)')"
   ]
  },
  {
   "cell_type": "code",
   "execution_count": 31,
   "metadata": {},
   "outputs": [],
   "source": [
    "X_fitted = X_eval[:T_train, :, :]\n",
    "timestamps_fitted = timestamps_windowed[:T_train]\n",
    "X_pred = X_eval[T_train:, :, :]\n",
    "timestamps_pred = timestamps_windowed[T_train:]"
   ]
  },
  {
   "cell_type": "code",
   "execution_count": 32,
   "metadata": {},
   "outputs": [],
   "source": [
    "coords_pred = coords.copy()\n",
    "coords_pred[\"time\"] = timestamps_pred"
   ]
  },
  {
   "cell_type": "code",
   "execution_count": 33,
   "metadata": {},
   "outputs": [],
   "source": [
    "X_pred = data_pipeline.array_to_dataarray(X_pred, attrs, coords_pred, dims)"
   ]
  },
  {
   "cell_type": "code",
   "execution_count": 34,
   "metadata": {},
   "outputs": [
    {
     "data": {
      "text/html": [
       "<div><svg style=\"position: absolute; width: 0; height: 0; overflow: hidden\">\n",
       "<defs>\n",
       "<symbol id=\"icon-database\" viewBox=\"0 0 32 32\">\n",
       "<path d=\"M16 0c-8.837 0-16 2.239-16 5v4c0 2.761 7.163 5 16 5s16-2.239 16-5v-4c0-2.761-7.163-5-16-5z\"></path>\n",
       "<path d=\"M16 17c-8.837 0-16-2.239-16-5v6c0 2.761 7.163 5 16 5s16-2.239 16-5v-6c0 2.761-7.163 5-16 5z\"></path>\n",
       "<path d=\"M16 26c-8.837 0-16-2.239-16-5v6c0 2.761 7.163 5 16 5s16-2.239 16-5v-6c0 2.761-7.163 5-16 5z\"></path>\n",
       "</symbol>\n",
       "<symbol id=\"icon-file-text2\" viewBox=\"0 0 32 32\">\n",
       "<path d=\"M28.681 7.159c-0.694-0.947-1.662-2.053-2.724-3.116s-2.169-2.030-3.116-2.724c-1.612-1.182-2.393-1.319-2.841-1.319h-15.5c-1.378 0-2.5 1.121-2.5 2.5v27c0 1.378 1.122 2.5 2.5 2.5h23c1.378 0 2.5-1.122 2.5-2.5v-19.5c0-0.448-0.137-1.23-1.319-2.841zM24.543 5.457c0.959 0.959 1.712 1.825 2.268 2.543h-4.811v-4.811c0.718 0.556 1.584 1.309 2.543 2.268zM28 29.5c0 0.271-0.229 0.5-0.5 0.5h-23c-0.271 0-0.5-0.229-0.5-0.5v-27c0-0.271 0.229-0.5 0.5-0.5 0 0 15.499-0 15.5 0v7c0 0.552 0.448 1 1 1h7v19.5z\"></path>\n",
       "<path d=\"M23 26h-14c-0.552 0-1-0.448-1-1s0.448-1 1-1h14c0.552 0 1 0.448 1 1s-0.448 1-1 1z\"></path>\n",
       "<path d=\"M23 22h-14c-0.552 0-1-0.448-1-1s0.448-1 1-1h14c0.552 0 1 0.448 1 1s-0.448 1-1 1z\"></path>\n",
       "<path d=\"M23 18h-14c-0.552 0-1-0.448-1-1s0.448-1 1-1h14c0.552 0 1 0.448 1 1s-0.448 1-1 1z\"></path>\n",
       "</symbol>\n",
       "</defs>\n",
       "</svg>\n",
       "<style>/* CSS stylesheet for displaying xarray objects in jupyterlab.\n",
       " *\n",
       " */\n",
       "\n",
       ":root {\n",
       "  --xr-font-color0: var(--jp-content-font-color0, rgba(0, 0, 0, 1));\n",
       "  --xr-font-color2: var(--jp-content-font-color2, rgba(0, 0, 0, 0.54));\n",
       "  --xr-font-color3: var(--jp-content-font-color3, rgba(0, 0, 0, 0.38));\n",
       "  --xr-border-color: var(--jp-border-color2, #e0e0e0);\n",
       "  --xr-disabled-color: var(--jp-layout-color3, #bdbdbd);\n",
       "  --xr-background-color: var(--jp-layout-color0, white);\n",
       "  --xr-background-color-row-even: var(--jp-layout-color1, white);\n",
       "  --xr-background-color-row-odd: var(--jp-layout-color2, #eeeeee);\n",
       "}\n",
       "\n",
       "html[theme=dark],\n",
       "body[data-theme=dark],\n",
       "body.vscode-dark {\n",
       "  --xr-font-color0: rgba(255, 255, 255, 1);\n",
       "  --xr-font-color2: rgba(255, 255, 255, 0.54);\n",
       "  --xr-font-color3: rgba(255, 255, 255, 0.38);\n",
       "  --xr-border-color: #1F1F1F;\n",
       "  --xr-disabled-color: #515151;\n",
       "  --xr-background-color: #111111;\n",
       "  --xr-background-color-row-even: #111111;\n",
       "  --xr-background-color-row-odd: #313131;\n",
       "}\n",
       "\n",
       ".xr-wrap {\n",
       "  display: block !important;\n",
       "  min-width: 300px;\n",
       "  max-width: 700px;\n",
       "}\n",
       "\n",
       ".xr-text-repr-fallback {\n",
       "  /* fallback to plain text repr when CSS is not injected (untrusted notebook) */\n",
       "  display: none;\n",
       "}\n",
       "\n",
       ".xr-header {\n",
       "  padding-top: 6px;\n",
       "  padding-bottom: 6px;\n",
       "  margin-bottom: 4px;\n",
       "  border-bottom: solid 1px var(--xr-border-color);\n",
       "}\n",
       "\n",
       ".xr-header > div,\n",
       ".xr-header > ul {\n",
       "  display: inline;\n",
       "  margin-top: 0;\n",
       "  margin-bottom: 0;\n",
       "}\n",
       "\n",
       ".xr-obj-type,\n",
       ".xr-array-name {\n",
       "  margin-left: 2px;\n",
       "  margin-right: 10px;\n",
       "}\n",
       "\n",
       ".xr-obj-type {\n",
       "  color: var(--xr-font-color2);\n",
       "}\n",
       "\n",
       ".xr-sections {\n",
       "  padding-left: 0 !important;\n",
       "  display: grid;\n",
       "  grid-template-columns: 150px auto auto 1fr 20px 20px;\n",
       "}\n",
       "\n",
       ".xr-section-item {\n",
       "  display: contents;\n",
       "}\n",
       "\n",
       ".xr-section-item input {\n",
       "  display: none;\n",
       "}\n",
       "\n",
       ".xr-section-item input + label {\n",
       "  color: var(--xr-disabled-color);\n",
       "}\n",
       "\n",
       ".xr-section-item input:enabled + label {\n",
       "  cursor: pointer;\n",
       "  color: var(--xr-font-color2);\n",
       "}\n",
       "\n",
       ".xr-section-item input:enabled + label:hover {\n",
       "  color: var(--xr-font-color0);\n",
       "}\n",
       "\n",
       ".xr-section-summary {\n",
       "  grid-column: 1;\n",
       "  color: var(--xr-font-color2);\n",
       "  font-weight: 500;\n",
       "}\n",
       "\n",
       ".xr-section-summary > span {\n",
       "  display: inline-block;\n",
       "  padding-left: 0.5em;\n",
       "}\n",
       "\n",
       ".xr-section-summary-in:disabled + label {\n",
       "  color: var(--xr-font-color2);\n",
       "}\n",
       "\n",
       ".xr-section-summary-in + label:before {\n",
       "  display: inline-block;\n",
       "  content: '►';\n",
       "  font-size: 11px;\n",
       "  width: 15px;\n",
       "  text-align: center;\n",
       "}\n",
       "\n",
       ".xr-section-summary-in:disabled + label:before {\n",
       "  color: var(--xr-disabled-color);\n",
       "}\n",
       "\n",
       ".xr-section-summary-in:checked + label:before {\n",
       "  content: '▼';\n",
       "}\n",
       "\n",
       ".xr-section-summary-in:checked + label > span {\n",
       "  display: none;\n",
       "}\n",
       "\n",
       ".xr-section-summary,\n",
       ".xr-section-inline-details {\n",
       "  padding-top: 4px;\n",
       "  padding-bottom: 4px;\n",
       "}\n",
       "\n",
       ".xr-section-inline-details {\n",
       "  grid-column: 2 / -1;\n",
       "}\n",
       "\n",
       ".xr-section-details {\n",
       "  display: none;\n",
       "  grid-column: 1 / -1;\n",
       "  margin-bottom: 5px;\n",
       "}\n",
       "\n",
       ".xr-section-summary-in:checked ~ .xr-section-details {\n",
       "  display: contents;\n",
       "}\n",
       "\n",
       ".xr-array-wrap {\n",
       "  grid-column: 1 / -1;\n",
       "  display: grid;\n",
       "  grid-template-columns: 20px auto;\n",
       "}\n",
       "\n",
       ".xr-array-wrap > label {\n",
       "  grid-column: 1;\n",
       "  vertical-align: top;\n",
       "}\n",
       "\n",
       ".xr-preview {\n",
       "  color: var(--xr-font-color3);\n",
       "}\n",
       "\n",
       ".xr-array-preview,\n",
       ".xr-array-data {\n",
       "  padding: 0 5px !important;\n",
       "  grid-column: 2;\n",
       "}\n",
       "\n",
       ".xr-array-data,\n",
       ".xr-array-in:checked ~ .xr-array-preview {\n",
       "  display: none;\n",
       "}\n",
       "\n",
       ".xr-array-in:checked ~ .xr-array-data,\n",
       ".xr-array-preview {\n",
       "  display: inline-block;\n",
       "}\n",
       "\n",
       ".xr-dim-list {\n",
       "  display: inline-block !important;\n",
       "  list-style: none;\n",
       "  padding: 0 !important;\n",
       "  margin: 0;\n",
       "}\n",
       "\n",
       ".xr-dim-list li {\n",
       "  display: inline-block;\n",
       "  padding: 0;\n",
       "  margin: 0;\n",
       "}\n",
       "\n",
       ".xr-dim-list:before {\n",
       "  content: '(';\n",
       "}\n",
       "\n",
       ".xr-dim-list:after {\n",
       "  content: ')';\n",
       "}\n",
       "\n",
       ".xr-dim-list li:not(:last-child):after {\n",
       "  content: ',';\n",
       "  padding-right: 5px;\n",
       "}\n",
       "\n",
       ".xr-has-index {\n",
       "  font-weight: bold;\n",
       "}\n",
       "\n",
       ".xr-var-list,\n",
       ".xr-var-item {\n",
       "  display: contents;\n",
       "}\n",
       "\n",
       ".xr-var-item > div,\n",
       ".xr-var-item label,\n",
       ".xr-var-item > .xr-var-name span {\n",
       "  background-color: var(--xr-background-color-row-even);\n",
       "  margin-bottom: 0;\n",
       "}\n",
       "\n",
       ".xr-var-item > .xr-var-name:hover span {\n",
       "  padding-right: 5px;\n",
       "}\n",
       "\n",
       ".xr-var-list > li:nth-child(odd) > div,\n",
       ".xr-var-list > li:nth-child(odd) > label,\n",
       ".xr-var-list > li:nth-child(odd) > .xr-var-name span {\n",
       "  background-color: var(--xr-background-color-row-odd);\n",
       "}\n",
       "\n",
       ".xr-var-name {\n",
       "  grid-column: 1;\n",
       "}\n",
       "\n",
       ".xr-var-dims {\n",
       "  grid-column: 2;\n",
       "}\n",
       "\n",
       ".xr-var-dtype {\n",
       "  grid-column: 3;\n",
       "  text-align: right;\n",
       "  color: var(--xr-font-color2);\n",
       "}\n",
       "\n",
       ".xr-var-preview {\n",
       "  grid-column: 4;\n",
       "}\n",
       "\n",
       ".xr-index-preview {\n",
       "  grid-column: 2 / 5;\n",
       "  color: var(--xr-font-color2);\n",
       "}\n",
       "\n",
       ".xr-var-name,\n",
       ".xr-var-dims,\n",
       ".xr-var-dtype,\n",
       ".xr-preview,\n",
       ".xr-attrs dt {\n",
       "  white-space: nowrap;\n",
       "  overflow: hidden;\n",
       "  text-overflow: ellipsis;\n",
       "  padding-right: 10px;\n",
       "}\n",
       "\n",
       ".xr-var-name:hover,\n",
       ".xr-var-dims:hover,\n",
       ".xr-var-dtype:hover,\n",
       ".xr-attrs dt:hover {\n",
       "  overflow: visible;\n",
       "  width: auto;\n",
       "  z-index: 1;\n",
       "}\n",
       "\n",
       ".xr-var-attrs,\n",
       ".xr-var-data,\n",
       ".xr-index-data {\n",
       "  display: none;\n",
       "  background-color: var(--xr-background-color) !important;\n",
       "  padding-bottom: 5px !important;\n",
       "}\n",
       "\n",
       ".xr-var-attrs-in:checked ~ .xr-var-attrs,\n",
       ".xr-var-data-in:checked ~ .xr-var-data,\n",
       ".xr-index-data-in:checked ~ .xr-index-data {\n",
       "  display: block;\n",
       "}\n",
       "\n",
       ".xr-var-data > table {\n",
       "  float: right;\n",
       "}\n",
       "\n",
       ".xr-var-name span,\n",
       ".xr-var-data,\n",
       ".xr-index-name div,\n",
       ".xr-index-data,\n",
       ".xr-attrs {\n",
       "  padding-left: 25px !important;\n",
       "}\n",
       "\n",
       ".xr-attrs,\n",
       ".xr-var-attrs,\n",
       ".xr-var-data,\n",
       ".xr-index-data {\n",
       "  grid-column: 1 / -1;\n",
       "}\n",
       "\n",
       "dl.xr-attrs {\n",
       "  padding: 0;\n",
       "  margin: 0;\n",
       "  display: grid;\n",
       "  grid-template-columns: 125px auto;\n",
       "}\n",
       "\n",
       ".xr-attrs dt,\n",
       ".xr-attrs dd {\n",
       "  padding: 0;\n",
       "  margin: 0;\n",
       "  float: left;\n",
       "  padding-right: 10px;\n",
       "  width: auto;\n",
       "}\n",
       "\n",
       ".xr-attrs dt {\n",
       "  font-weight: normal;\n",
       "  grid-column: 1;\n",
       "}\n",
       "\n",
       ".xr-attrs dt:hover span {\n",
       "  display: inline-block;\n",
       "  background: var(--xr-background-color);\n",
       "  padding-right: 10px;\n",
       "}\n",
       "\n",
       ".xr-attrs dd {\n",
       "  grid-column: 2;\n",
       "  white-space: pre-wrap;\n",
       "  word-break: break-all;\n",
       "}\n",
       "\n",
       ".xr-icon-database,\n",
       ".xr-icon-file-text2,\n",
       ".xr-no-icon {\n",
       "  display: inline-block;\n",
       "  vertical-align: middle;\n",
       "  width: 1em;\n",
       "  height: 1.5em !important;\n",
       "  stroke-width: 0;\n",
       "  stroke: currentColor;\n",
       "  fill: currentColor;\n",
       "}\n",
       "</style><pre class='xr-text-repr-fallback'>&lt;xarray.DataArray (time: 82, latitude: 180, longitude: 180)&gt; Size: 21MB\n",
       "array([[[244.69014187, 244.69122508, 244.69222872, ..., 243.83004638,\n",
       "         243.82799849, 243.82612153],\n",
       "        [246.25563209, 246.26047466, 246.26461162, ..., 242.42084155,\n",
       "         242.414001  , 242.40691953],\n",
       "        [248.21226119, 248.2057662 , 248.19772612, ..., 242.57191363,\n",
       "         242.55930497, 242.54854231],\n",
       "        ...,\n",
       "        [260.25450139, 260.25927067, 260.26759331, ..., 262.30687648,\n",
       "         262.37062517, 262.43509253],\n",
       "        [261.45494365, 261.44028103, 261.42468733, ..., 261.26247592,\n",
       "         261.25451235, 261.24522953],\n",
       "        [261.35522084, 261.31725829, 261.27956811, ..., 259.9229866 ,\n",
       "         259.90780785, 259.89277245]],\n",
       "\n",
       "       [[244.72272198, 244.72382828, 244.72485631, ..., 243.86142223,\n",
       "         243.85930156, 243.85734749],\n",
       "        [246.29047901, 246.29529768, 246.29940785, ..., 242.45274287,\n",
       "         242.44560311, 242.43820899],\n",
       "        [248.2479825 , 248.24165076, 248.23374817, ..., 242.61171924,\n",
       "         242.5980969 , 242.58631693],\n",
       "...\n",
       "        [265.14465212, 265.13644254, 265.13067236, ..., 266.36445037,\n",
       "         266.41034142, 266.45537683],\n",
       "        [265.62797042, 265.61925004, 265.61060805, ..., 265.17631062,\n",
       "         265.17272745, 265.16798682],\n",
       "        [265.49414196, 265.47423425, 265.45424724, ..., 264.23879955,\n",
       "         264.23369013, 264.22877625]],\n",
       "\n",
       "       [[248.28890274, 248.28929232, 248.28968675, ..., 248.05335732,\n",
       "         248.05277642, 248.05229933],\n",
       "        [248.77831959, 248.7783573 , 248.77835971, ..., 247.62797894,\n",
       "         247.63075476, 247.63389109],\n",
       "        [249.56092096, 249.55881117, 249.55597982, ..., 247.5319011 ,\n",
       "         247.5440644 , 247.55826374],\n",
       "        ...,\n",
       "        [265.07490795, 265.06695222, 265.06137186, ..., 266.27947907,\n",
       "         266.3238819 , 266.36785193],\n",
       "        [265.53545667, 265.5271772 , 265.51899398, ..., 265.10196978,\n",
       "         265.09759155, 265.09211161],\n",
       "        [265.39750019, 265.37786789, 265.35818157, ..., 264.16806628,\n",
       "         264.16275949, 264.15763953]]])\n",
       "Coordinates:\n",
       "  * latitude   (latitude) float32 720B 89.75 88.75 87.75 ... -88.25 -89.25\n",
       "    level      int64 8B 1000\n",
       "  * longitude  (longitude) float32 720B 90.25 91.25 92.25 ... 267.2 268.2 269.2\n",
       "  * time       (time) datetime64[ns] 656B 2020-02-07T12:00:00 ... 2020-02-27T...\n",
       "Attributes:\n",
       "    long_name:      Temperature\n",
       "    short_name:     t\n",
       "    standard_name:  air_temperature\n",
       "    units:          K</pre><div class='xr-wrap' style='display:none'><div class='xr-header'><div class='xr-obj-type'>xarray.DataArray</div><div class='xr-array-name'></div><ul class='xr-dim-list'><li><span class='xr-has-index'>time</span>: 82</li><li><span class='xr-has-index'>latitude</span>: 180</li><li><span class='xr-has-index'>longitude</span>: 180</li></ul></div><ul class='xr-sections'><li class='xr-section-item'><div class='xr-array-wrap'><input id='section-bfbbb04e-d3db-4b66-a777-e06508d56708' class='xr-array-in' type='checkbox' checked><label for='section-bfbbb04e-d3db-4b66-a777-e06508d56708' title='Show/hide data repr'><svg class='icon xr-icon-database'><use xlink:href='#icon-database'></use></svg></label><div class='xr-array-preview xr-preview'><span>244.7 244.7 244.7 244.7 244.7 244.7 ... 264.2 264.2 264.2 264.2 264.2</span></div><div class='xr-array-data'><pre>array([[[244.69014187, 244.69122508, 244.69222872, ..., 243.83004638,\n",
       "         243.82799849, 243.82612153],\n",
       "        [246.25563209, 246.26047466, 246.26461162, ..., 242.42084155,\n",
       "         242.414001  , 242.40691953],\n",
       "        [248.21226119, 248.2057662 , 248.19772612, ..., 242.57191363,\n",
       "         242.55930497, 242.54854231],\n",
       "        ...,\n",
       "        [260.25450139, 260.25927067, 260.26759331, ..., 262.30687648,\n",
       "         262.37062517, 262.43509253],\n",
       "        [261.45494365, 261.44028103, 261.42468733, ..., 261.26247592,\n",
       "         261.25451235, 261.24522953],\n",
       "        [261.35522084, 261.31725829, 261.27956811, ..., 259.9229866 ,\n",
       "         259.90780785, 259.89277245]],\n",
       "\n",
       "       [[244.72272198, 244.72382828, 244.72485631, ..., 243.86142223,\n",
       "         243.85930156, 243.85734749],\n",
       "        [246.29047901, 246.29529768, 246.29940785, ..., 242.45274287,\n",
       "         242.44560311, 242.43820899],\n",
       "        [248.2479825 , 248.24165076, 248.23374817, ..., 242.61171924,\n",
       "         242.5980969 , 242.58631693],\n",
       "...\n",
       "        [265.14465212, 265.13644254, 265.13067236, ..., 266.36445037,\n",
       "         266.41034142, 266.45537683],\n",
       "        [265.62797042, 265.61925004, 265.61060805, ..., 265.17631062,\n",
       "         265.17272745, 265.16798682],\n",
       "        [265.49414196, 265.47423425, 265.45424724, ..., 264.23879955,\n",
       "         264.23369013, 264.22877625]],\n",
       "\n",
       "       [[248.28890274, 248.28929232, 248.28968675, ..., 248.05335732,\n",
       "         248.05277642, 248.05229933],\n",
       "        [248.77831959, 248.7783573 , 248.77835971, ..., 247.62797894,\n",
       "         247.63075476, 247.63389109],\n",
       "        [249.56092096, 249.55881117, 249.55597982, ..., 247.5319011 ,\n",
       "         247.5440644 , 247.55826374],\n",
       "        ...,\n",
       "        [265.07490795, 265.06695222, 265.06137186, ..., 266.27947907,\n",
       "         266.3238819 , 266.36785193],\n",
       "        [265.53545667, 265.5271772 , 265.51899398, ..., 265.10196978,\n",
       "         265.09759155, 265.09211161],\n",
       "        [265.39750019, 265.37786789, 265.35818157, ..., 264.16806628,\n",
       "         264.16275949, 264.15763953]]])</pre></div></div></li><li class='xr-section-item'><input id='section-fa9554d1-339c-4a8d-ba49-fba8f215d2f3' class='xr-section-summary-in' type='checkbox'  checked><label for='section-fa9554d1-339c-4a8d-ba49-fba8f215d2f3' class='xr-section-summary' >Coordinates: <span>(4)</span></label><div class='xr-section-inline-details'></div><div class='xr-section-details'><ul class='xr-var-list'><li class='xr-var-item'><div class='xr-var-name'><span class='xr-has-index'>latitude</span></div><div class='xr-var-dims'>(latitude)</div><div class='xr-var-dtype'>float32</div><div class='xr-var-preview xr-preview'>89.75 88.75 87.75 ... -88.25 -89.25</div><input id='attrs-7413a981-7726-4085-bc0d-033de63b8903' class='xr-var-attrs-in' type='checkbox' ><label for='attrs-7413a981-7726-4085-bc0d-033de63b8903' title='Show/Hide attributes'><svg class='icon xr-icon-file-text2'><use xlink:href='#icon-file-text2'></use></svg></label><input id='data-9ac4acfa-9b4d-4ed3-8767-29f42bce9e2b' class='xr-var-data-in' type='checkbox'><label for='data-9ac4acfa-9b4d-4ed3-8767-29f42bce9e2b' title='Show/Hide data repr'><svg class='icon xr-icon-database'><use xlink:href='#icon-database'></use></svg></label><div class='xr-var-attrs'><dl class='xr-attrs'><dt><span>long_name :</span></dt><dd>latitude</dd><dt><span>units :</span></dt><dd>degrees_north</dd></dl></div><div class='xr-var-data'><pre>array([ 89.75,  88.75,  87.75,  86.75,  85.75,  84.75,  83.75,  82.75,  81.75,\n",
       "        80.75,  79.75,  78.75,  77.75,  76.75,  75.75,  74.75,  73.75,  72.75,\n",
       "        71.75,  70.75,  69.75,  68.75,  67.75,  66.75,  65.75,  64.75,  63.75,\n",
       "        62.75,  61.75,  60.75,  59.75,  58.75,  57.75,  56.75,  55.75,  54.75,\n",
       "        53.75,  52.75,  51.75,  50.75,  49.75,  48.75,  47.75,  46.75,  45.75,\n",
       "        44.75,  43.75,  42.75,  41.75,  40.75,  39.75,  38.75,  37.75,  36.75,\n",
       "        35.75,  34.75,  33.75,  32.75,  31.75,  30.75,  29.75,  28.75,  27.75,\n",
       "        26.75,  25.75,  24.75,  23.75,  22.75,  21.75,  20.75,  19.75,  18.75,\n",
       "        17.75,  16.75,  15.75,  14.75,  13.75,  12.75,  11.75,  10.75,   9.75,\n",
       "         8.75,   7.75,   6.75,   5.75,   4.75,   3.75,   2.75,   1.75,   0.75,\n",
       "        -0.25,  -1.25,  -2.25,  -3.25,  -4.25,  -5.25,  -6.25,  -7.25,  -8.25,\n",
       "        -9.25, -10.25, -11.25, -12.25, -13.25, -14.25, -15.25, -16.25, -17.25,\n",
       "       -18.25, -19.25, -20.25, -21.25, -22.25, -23.25, -24.25, -25.25, -26.25,\n",
       "       -27.25, -28.25, -29.25, -30.25, -31.25, -32.25, -33.25, -34.25, -35.25,\n",
       "       -36.25, -37.25, -38.25, -39.25, -40.25, -41.25, -42.25, -43.25, -44.25,\n",
       "       -45.25, -46.25, -47.25, -48.25, -49.25, -50.25, -51.25, -52.25, -53.25,\n",
       "       -54.25, -55.25, -56.25, -57.25, -58.25, -59.25, -60.25, -61.25, -62.25,\n",
       "       -63.25, -64.25, -65.25, -66.25, -67.25, -68.25, -69.25, -70.25, -71.25,\n",
       "       -72.25, -73.25, -74.25, -75.25, -76.25, -77.25, -78.25, -79.25, -80.25,\n",
       "       -81.25, -82.25, -83.25, -84.25, -85.25, -86.25, -87.25, -88.25, -89.25],\n",
       "      dtype=float32)</pre></div></li><li class='xr-var-item'><div class='xr-var-name'><span>level</span></div><div class='xr-var-dims'>()</div><div class='xr-var-dtype'>int64</div><div class='xr-var-preview xr-preview'>1000</div><input id='attrs-308a15fe-b0f9-4081-ab94-cc67753a18ad' class='xr-var-attrs-in' type='checkbox' disabled><label for='attrs-308a15fe-b0f9-4081-ab94-cc67753a18ad' title='Show/Hide attributes'><svg class='icon xr-icon-file-text2'><use xlink:href='#icon-file-text2'></use></svg></label><input id='data-3d192577-1694-451c-bf43-48e7323265a4' class='xr-var-data-in' type='checkbox'><label for='data-3d192577-1694-451c-bf43-48e7323265a4' title='Show/Hide data repr'><svg class='icon xr-icon-database'><use xlink:href='#icon-database'></use></svg></label><div class='xr-var-attrs'><dl class='xr-attrs'></dl></div><div class='xr-var-data'><pre>array(1000)</pre></div></li><li class='xr-var-item'><div class='xr-var-name'><span class='xr-has-index'>longitude</span></div><div class='xr-var-dims'>(longitude)</div><div class='xr-var-dtype'>float32</div><div class='xr-var-preview xr-preview'>90.25 91.25 92.25 ... 268.2 269.2</div><input id='attrs-a94d639c-27ed-4821-a238-30385964af6f' class='xr-var-attrs-in' type='checkbox' ><label for='attrs-a94d639c-27ed-4821-a238-30385964af6f' title='Show/Hide attributes'><svg class='icon xr-icon-file-text2'><use xlink:href='#icon-file-text2'></use></svg></label><input id='data-c8b8576a-8960-49c5-a6da-213a8125be00' class='xr-var-data-in' type='checkbox'><label for='data-c8b8576a-8960-49c5-a6da-213a8125be00' title='Show/Hide data repr'><svg class='icon xr-icon-database'><use xlink:href='#icon-database'></use></svg></label><div class='xr-var-attrs'><dl class='xr-attrs'><dt><span>long_name :</span></dt><dd>longitude</dd><dt><span>units :</span></dt><dd>degrees_east</dd></dl></div><div class='xr-var-data'><pre>array([ 90.25,  91.25,  92.25,  93.25,  94.25,  95.25,  96.25,  97.25,  98.25,\n",
       "        99.25, 100.25, 101.25, 102.25, 103.25, 104.25, 105.25, 106.25, 107.25,\n",
       "       108.25, 109.25, 110.25, 111.25, 112.25, 113.25, 114.25, 115.25, 116.25,\n",
       "       117.25, 118.25, 119.25, 120.25, 121.25, 122.25, 123.25, 124.25, 125.25,\n",
       "       126.25, 127.25, 128.25, 129.25, 130.25, 131.25, 132.25, 133.25, 134.25,\n",
       "       135.25, 136.25, 137.25, 138.25, 139.25, 140.25, 141.25, 142.25, 143.25,\n",
       "       144.25, 145.25, 146.25, 147.25, 148.25, 149.25, 150.25, 151.25, 152.25,\n",
       "       153.25, 154.25, 155.25, 156.25, 157.25, 158.25, 159.25, 160.25, 161.25,\n",
       "       162.25, 163.25, 164.25, 165.25, 166.25, 167.25, 168.25, 169.25, 170.25,\n",
       "       171.25, 172.25, 173.25, 174.25, 175.25, 176.25, 177.25, 178.25, 179.25,\n",
       "       180.25, 181.25, 182.25, 183.25, 184.25, 185.25, 186.25, 187.25, 188.25,\n",
       "       189.25, 190.25, 191.25, 192.25, 193.25, 194.25, 195.25, 196.25, 197.25,\n",
       "       198.25, 199.25, 200.25, 201.25, 202.25, 203.25, 204.25, 205.25, 206.25,\n",
       "       207.25, 208.25, 209.25, 210.25, 211.25, 212.25, 213.25, 214.25, 215.25,\n",
       "       216.25, 217.25, 218.25, 219.25, 220.25, 221.25, 222.25, 223.25, 224.25,\n",
       "       225.25, 226.25, 227.25, 228.25, 229.25, 230.25, 231.25, 232.25, 233.25,\n",
       "       234.25, 235.25, 236.25, 237.25, 238.25, 239.25, 240.25, 241.25, 242.25,\n",
       "       243.25, 244.25, 245.25, 246.25, 247.25, 248.25, 249.25, 250.25, 251.25,\n",
       "       252.25, 253.25, 254.25, 255.25, 256.25, 257.25, 258.25, 259.25, 260.25,\n",
       "       261.25, 262.25, 263.25, 264.25, 265.25, 266.25, 267.25, 268.25, 269.25],\n",
       "      dtype=float32)</pre></div></li><li class='xr-var-item'><div class='xr-var-name'><span class='xr-has-index'>time</span></div><div class='xr-var-dims'>(time)</div><div class='xr-var-dtype'>datetime64[ns]</div><div class='xr-var-preview xr-preview'>2020-02-07T12:00:00 ... 2020-02-...</div><input id='attrs-8ad9c6bd-41a3-45ac-9969-664608742767' class='xr-var-attrs-in' type='checkbox' disabled><label for='attrs-8ad9c6bd-41a3-45ac-9969-664608742767' title='Show/Hide attributes'><svg class='icon xr-icon-file-text2'><use xlink:href='#icon-file-text2'></use></svg></label><input id='data-ab1578f2-43bd-4f27-9f25-0b6f1e8a4ba1' class='xr-var-data-in' type='checkbox'><label for='data-ab1578f2-43bd-4f27-9f25-0b6f1e8a4ba1' title='Show/Hide data repr'><svg class='icon xr-icon-database'><use xlink:href='#icon-database'></use></svg></label><div class='xr-var-attrs'><dl class='xr-attrs'></dl></div><div class='xr-var-data'><pre>array([&#x27;2020-02-07T12:00:00.000000000&#x27;, &#x27;2020-02-07T18:00:00.000000000&#x27;,\n",
       "       &#x27;2020-02-08T00:00:00.000000000&#x27;, &#x27;2020-02-08T06:00:00.000000000&#x27;,\n",
       "       &#x27;2020-02-08T12:00:00.000000000&#x27;, &#x27;2020-02-08T18:00:00.000000000&#x27;,\n",
       "       &#x27;2020-02-09T00:00:00.000000000&#x27;, &#x27;2020-02-09T06:00:00.000000000&#x27;,\n",
       "       &#x27;2020-02-09T12:00:00.000000000&#x27;, &#x27;2020-02-09T18:00:00.000000000&#x27;,\n",
       "       &#x27;2020-02-10T00:00:00.000000000&#x27;, &#x27;2020-02-10T06:00:00.000000000&#x27;,\n",
       "       &#x27;2020-02-10T12:00:00.000000000&#x27;, &#x27;2020-02-10T18:00:00.000000000&#x27;,\n",
       "       &#x27;2020-02-11T00:00:00.000000000&#x27;, &#x27;2020-02-11T06:00:00.000000000&#x27;,\n",
       "       &#x27;2020-02-11T12:00:00.000000000&#x27;, &#x27;2020-02-11T18:00:00.000000000&#x27;,\n",
       "       &#x27;2020-02-12T00:00:00.000000000&#x27;, &#x27;2020-02-12T06:00:00.000000000&#x27;,\n",
       "       &#x27;2020-02-12T12:00:00.000000000&#x27;, &#x27;2020-02-12T18:00:00.000000000&#x27;,\n",
       "       &#x27;2020-02-13T00:00:00.000000000&#x27;, &#x27;2020-02-13T06:00:00.000000000&#x27;,\n",
       "       &#x27;2020-02-13T12:00:00.000000000&#x27;, &#x27;2020-02-13T18:00:00.000000000&#x27;,\n",
       "       &#x27;2020-02-14T00:00:00.000000000&#x27;, &#x27;2020-02-14T06:00:00.000000000&#x27;,\n",
       "       &#x27;2020-02-14T12:00:00.000000000&#x27;, &#x27;2020-02-14T18:00:00.000000000&#x27;,\n",
       "       &#x27;2020-02-15T00:00:00.000000000&#x27;, &#x27;2020-02-15T06:00:00.000000000&#x27;,\n",
       "       &#x27;2020-02-15T12:00:00.000000000&#x27;, &#x27;2020-02-15T18:00:00.000000000&#x27;,\n",
       "       &#x27;2020-02-16T00:00:00.000000000&#x27;, &#x27;2020-02-16T06:00:00.000000000&#x27;,\n",
       "       &#x27;2020-02-16T12:00:00.000000000&#x27;, &#x27;2020-02-16T18:00:00.000000000&#x27;,\n",
       "       &#x27;2020-02-17T00:00:00.000000000&#x27;, &#x27;2020-02-17T06:00:00.000000000&#x27;,\n",
       "       &#x27;2020-02-17T12:00:00.000000000&#x27;, &#x27;2020-02-17T18:00:00.000000000&#x27;,\n",
       "       &#x27;2020-02-18T00:00:00.000000000&#x27;, &#x27;2020-02-18T06:00:00.000000000&#x27;,\n",
       "       &#x27;2020-02-18T12:00:00.000000000&#x27;, &#x27;2020-02-18T18:00:00.000000000&#x27;,\n",
       "       &#x27;2020-02-19T00:00:00.000000000&#x27;, &#x27;2020-02-19T06:00:00.000000000&#x27;,\n",
       "       &#x27;2020-02-19T12:00:00.000000000&#x27;, &#x27;2020-02-19T18:00:00.000000000&#x27;,\n",
       "       &#x27;2020-02-20T00:00:00.000000000&#x27;, &#x27;2020-02-20T06:00:00.000000000&#x27;,\n",
       "       &#x27;2020-02-20T12:00:00.000000000&#x27;, &#x27;2020-02-20T18:00:00.000000000&#x27;,\n",
       "       &#x27;2020-02-21T00:00:00.000000000&#x27;, &#x27;2020-02-21T06:00:00.000000000&#x27;,\n",
       "       &#x27;2020-02-21T12:00:00.000000000&#x27;, &#x27;2020-02-21T18:00:00.000000000&#x27;,\n",
       "       &#x27;2020-02-22T00:00:00.000000000&#x27;, &#x27;2020-02-22T06:00:00.000000000&#x27;,\n",
       "       &#x27;2020-02-22T12:00:00.000000000&#x27;, &#x27;2020-02-22T18:00:00.000000000&#x27;,\n",
       "       &#x27;2020-02-23T00:00:00.000000000&#x27;, &#x27;2020-02-23T06:00:00.000000000&#x27;,\n",
       "       &#x27;2020-02-23T12:00:00.000000000&#x27;, &#x27;2020-02-23T18:00:00.000000000&#x27;,\n",
       "       &#x27;2020-02-24T00:00:00.000000000&#x27;, &#x27;2020-02-24T06:00:00.000000000&#x27;,\n",
       "       &#x27;2020-02-24T12:00:00.000000000&#x27;, &#x27;2020-02-24T18:00:00.000000000&#x27;,\n",
       "       &#x27;2020-02-25T00:00:00.000000000&#x27;, &#x27;2020-02-25T06:00:00.000000000&#x27;,\n",
       "       &#x27;2020-02-25T12:00:00.000000000&#x27;, &#x27;2020-02-25T18:00:00.000000000&#x27;,\n",
       "       &#x27;2020-02-26T00:00:00.000000000&#x27;, &#x27;2020-02-26T06:00:00.000000000&#x27;,\n",
       "       &#x27;2020-02-26T12:00:00.000000000&#x27;, &#x27;2020-02-26T18:00:00.000000000&#x27;,\n",
       "       &#x27;2020-02-27T00:00:00.000000000&#x27;, &#x27;2020-02-27T06:00:00.000000000&#x27;,\n",
       "       &#x27;2020-02-27T12:00:00.000000000&#x27;, &#x27;2020-02-27T18:00:00.000000000&#x27;],\n",
       "      dtype=&#x27;datetime64[ns]&#x27;)</pre></div></li></ul></div></li><li class='xr-section-item'><input id='section-f3099d6e-81e1-4913-9851-50614ee97a29' class='xr-section-summary-in' type='checkbox'  ><label for='section-f3099d6e-81e1-4913-9851-50614ee97a29' class='xr-section-summary' >Indexes: <span>(3)</span></label><div class='xr-section-inline-details'></div><div class='xr-section-details'><ul class='xr-var-list'><li class='xr-var-item'><div class='xr-index-name'><div>latitude</div></div><div class='xr-index-preview'>PandasIndex</div><div></div><input id='index-3ec4d890-62e1-42cc-a109-0bbf2a45a653' class='xr-index-data-in' type='checkbox'/><label for='index-3ec4d890-62e1-42cc-a109-0bbf2a45a653' title='Show/Hide index repr'><svg class='icon xr-icon-database'><use xlink:href='#icon-database'></use></svg></label><div class='xr-index-data'><pre>PandasIndex(Index([ 89.75,  88.75,  87.75,  86.75,  85.75,  84.75,  83.75,  82.75,  81.75,\n",
       "        80.75,\n",
       "       ...\n",
       "       -80.25, -81.25, -82.25, -83.25, -84.25, -85.25, -86.25, -87.25, -88.25,\n",
       "       -89.25],\n",
       "      dtype=&#x27;float32&#x27;, name=&#x27;latitude&#x27;, length=180))</pre></div></li><li class='xr-var-item'><div class='xr-index-name'><div>longitude</div></div><div class='xr-index-preview'>PandasIndex</div><div></div><input id='index-eaca7b5c-6865-40f9-9481-7274568414c5' class='xr-index-data-in' type='checkbox'/><label for='index-eaca7b5c-6865-40f9-9481-7274568414c5' title='Show/Hide index repr'><svg class='icon xr-icon-database'><use xlink:href='#icon-database'></use></svg></label><div class='xr-index-data'><pre>PandasIndex(Index([ 90.25,  91.25,  92.25,  93.25,  94.25,  95.25,  96.25,  97.25,  98.25,\n",
       "        99.25,\n",
       "       ...\n",
       "       260.25, 261.25, 262.25, 263.25, 264.25, 265.25, 266.25, 267.25, 268.25,\n",
       "       269.25],\n",
       "      dtype=&#x27;float32&#x27;, name=&#x27;longitude&#x27;, length=180))</pre></div></li><li class='xr-var-item'><div class='xr-index-name'><div>time</div></div><div class='xr-index-preview'>PandasIndex</div><div></div><input id='index-1bdab2b7-68f7-46f2-98f3-3a0a14ef6466' class='xr-index-data-in' type='checkbox'/><label for='index-1bdab2b7-68f7-46f2-98f3-3a0a14ef6466' title='Show/Hide index repr'><svg class='icon xr-icon-database'><use xlink:href='#icon-database'></use></svg></label><div class='xr-index-data'><pre>PandasIndex(DatetimeIndex([&#x27;2020-02-07 12:00:00&#x27;, &#x27;2020-02-07 18:00:00&#x27;,\n",
       "               &#x27;2020-02-08 00:00:00&#x27;, &#x27;2020-02-08 06:00:00&#x27;,\n",
       "               &#x27;2020-02-08 12:00:00&#x27;, &#x27;2020-02-08 18:00:00&#x27;,\n",
       "               &#x27;2020-02-09 00:00:00&#x27;, &#x27;2020-02-09 06:00:00&#x27;,\n",
       "               &#x27;2020-02-09 12:00:00&#x27;, &#x27;2020-02-09 18:00:00&#x27;,\n",
       "               &#x27;2020-02-10 00:00:00&#x27;, &#x27;2020-02-10 06:00:00&#x27;,\n",
       "               &#x27;2020-02-10 12:00:00&#x27;, &#x27;2020-02-10 18:00:00&#x27;,\n",
       "               &#x27;2020-02-11 00:00:00&#x27;, &#x27;2020-02-11 06:00:00&#x27;,\n",
       "               &#x27;2020-02-11 12:00:00&#x27;, &#x27;2020-02-11 18:00:00&#x27;,\n",
       "               &#x27;2020-02-12 00:00:00&#x27;, &#x27;2020-02-12 06:00:00&#x27;,\n",
       "               &#x27;2020-02-12 12:00:00&#x27;, &#x27;2020-02-12 18:00:00&#x27;,\n",
       "               &#x27;2020-02-13 00:00:00&#x27;, &#x27;2020-02-13 06:00:00&#x27;,\n",
       "               &#x27;2020-02-13 12:00:00&#x27;, &#x27;2020-02-13 18:00:00&#x27;,\n",
       "               &#x27;2020-02-14 00:00:00&#x27;, &#x27;2020-02-14 06:00:00&#x27;,\n",
       "               &#x27;2020-02-14 12:00:00&#x27;, &#x27;2020-02-14 18:00:00&#x27;,\n",
       "               &#x27;2020-02-15 00:00:00&#x27;, &#x27;2020-02-15 06:00:00&#x27;,\n",
       "               &#x27;2020-02-15 12:00:00&#x27;, &#x27;2020-02-15 18:00:00&#x27;,\n",
       "               &#x27;2020-02-16 00:00:00&#x27;, &#x27;2020-02-16 06:00:00&#x27;,\n",
       "               &#x27;2020-02-16 12:00:00&#x27;, &#x27;2020-02-16 18:00:00&#x27;,\n",
       "               &#x27;2020-02-17 00:00:00&#x27;, &#x27;2020-02-17 06:00:00&#x27;,\n",
       "               &#x27;2020-02-17 12:00:00&#x27;, &#x27;2020-02-17 18:00:00&#x27;,\n",
       "               &#x27;2020-02-18 00:00:00&#x27;, &#x27;2020-02-18 06:00:00&#x27;,\n",
       "               &#x27;2020-02-18 12:00:00&#x27;, &#x27;2020-02-18 18:00:00&#x27;,\n",
       "               &#x27;2020-02-19 00:00:00&#x27;, &#x27;2020-02-19 06:00:00&#x27;,\n",
       "               &#x27;2020-02-19 12:00:00&#x27;, &#x27;2020-02-19 18:00:00&#x27;,\n",
       "               &#x27;2020-02-20 00:00:00&#x27;, &#x27;2020-02-20 06:00:00&#x27;,\n",
       "               &#x27;2020-02-20 12:00:00&#x27;, &#x27;2020-02-20 18:00:00&#x27;,\n",
       "               &#x27;2020-02-21 00:00:00&#x27;, &#x27;2020-02-21 06:00:00&#x27;,\n",
       "               &#x27;2020-02-21 12:00:00&#x27;, &#x27;2020-02-21 18:00:00&#x27;,\n",
       "               &#x27;2020-02-22 00:00:00&#x27;, &#x27;2020-02-22 06:00:00&#x27;,\n",
       "               &#x27;2020-02-22 12:00:00&#x27;, &#x27;2020-02-22 18:00:00&#x27;,\n",
       "               &#x27;2020-02-23 00:00:00&#x27;, &#x27;2020-02-23 06:00:00&#x27;,\n",
       "               &#x27;2020-02-23 12:00:00&#x27;, &#x27;2020-02-23 18:00:00&#x27;,\n",
       "               &#x27;2020-02-24 00:00:00&#x27;, &#x27;2020-02-24 06:00:00&#x27;,\n",
       "               &#x27;2020-02-24 12:00:00&#x27;, &#x27;2020-02-24 18:00:00&#x27;,\n",
       "               &#x27;2020-02-25 00:00:00&#x27;, &#x27;2020-02-25 06:00:00&#x27;,\n",
       "               &#x27;2020-02-25 12:00:00&#x27;, &#x27;2020-02-25 18:00:00&#x27;,\n",
       "               &#x27;2020-02-26 00:00:00&#x27;, &#x27;2020-02-26 06:00:00&#x27;,\n",
       "               &#x27;2020-02-26 12:00:00&#x27;, &#x27;2020-02-26 18:00:00&#x27;,\n",
       "               &#x27;2020-02-27 00:00:00&#x27;, &#x27;2020-02-27 06:00:00&#x27;,\n",
       "               &#x27;2020-02-27 12:00:00&#x27;, &#x27;2020-02-27 18:00:00&#x27;],\n",
       "              dtype=&#x27;datetime64[ns]&#x27;, name=&#x27;time&#x27;, freq=None))</pre></div></li></ul></div></li><li class='xr-section-item'><input id='section-6ee7e40f-6203-416c-8a5b-057f79c94a1f' class='xr-section-summary-in' type='checkbox'  checked><label for='section-6ee7e40f-6203-416c-8a5b-057f79c94a1f' class='xr-section-summary' >Attributes: <span>(4)</span></label><div class='xr-section-inline-details'></div><div class='xr-section-details'><dl class='xr-attrs'><dt><span>long_name :</span></dt><dd>Temperature</dd><dt><span>short_name :</span></dt><dd>t</dd><dt><span>standard_name :</span></dt><dd>air_temperature</dd><dt><span>units :</span></dt><dd>K</dd></dl></div></li></ul></div></div>"
      ],
      "text/plain": [
       "<xarray.DataArray (time: 82, latitude: 180, longitude: 180)> Size: 21MB\n",
       "array([[[244.69014187, 244.69122508, 244.69222872, ..., 243.83004638,\n",
       "         243.82799849, 243.82612153],\n",
       "        [246.25563209, 246.26047466, 246.26461162, ..., 242.42084155,\n",
       "         242.414001  , 242.40691953],\n",
       "        [248.21226119, 248.2057662 , 248.19772612, ..., 242.57191363,\n",
       "         242.55930497, 242.54854231],\n",
       "        ...,\n",
       "        [260.25450139, 260.25927067, 260.26759331, ..., 262.30687648,\n",
       "         262.37062517, 262.43509253],\n",
       "        [261.45494365, 261.44028103, 261.42468733, ..., 261.26247592,\n",
       "         261.25451235, 261.24522953],\n",
       "        [261.35522084, 261.31725829, 261.27956811, ..., 259.9229866 ,\n",
       "         259.90780785, 259.89277245]],\n",
       "\n",
       "       [[244.72272198, 244.72382828, 244.72485631, ..., 243.86142223,\n",
       "         243.85930156, 243.85734749],\n",
       "        [246.29047901, 246.29529768, 246.29940785, ..., 242.45274287,\n",
       "         242.44560311, 242.43820899],\n",
       "        [248.2479825 , 248.24165076, 248.23374817, ..., 242.61171924,\n",
       "         242.5980969 , 242.58631693],\n",
       "...\n",
       "        [265.14465212, 265.13644254, 265.13067236, ..., 266.36445037,\n",
       "         266.41034142, 266.45537683],\n",
       "        [265.62797042, 265.61925004, 265.61060805, ..., 265.17631062,\n",
       "         265.17272745, 265.16798682],\n",
       "        [265.49414196, 265.47423425, 265.45424724, ..., 264.23879955,\n",
       "         264.23369013, 264.22877625]],\n",
       "\n",
       "       [[248.28890274, 248.28929232, 248.28968675, ..., 248.05335732,\n",
       "         248.05277642, 248.05229933],\n",
       "        [248.77831959, 248.7783573 , 248.77835971, ..., 247.62797894,\n",
       "         247.63075476, 247.63389109],\n",
       "        [249.56092096, 249.55881117, 249.55597982, ..., 247.5319011 ,\n",
       "         247.5440644 , 247.55826374],\n",
       "        ...,\n",
       "        [265.07490795, 265.06695222, 265.06137186, ..., 266.27947907,\n",
       "         266.3238819 , 266.36785193],\n",
       "        [265.53545667, 265.5271772 , 265.51899398, ..., 265.10196978,\n",
       "         265.09759155, 265.09211161],\n",
       "        [265.39750019, 265.37786789, 265.35818157, ..., 264.16806628,\n",
       "         264.16275949, 264.15763953]]])\n",
       "Coordinates:\n",
       "  * latitude   (latitude) float32 720B 89.75 88.75 87.75 ... -88.25 -89.25\n",
       "    level      int64 8B 1000\n",
       "  * longitude  (longitude) float32 720B 90.25 91.25 92.25 ... 267.2 268.2 269.2\n",
       "  * time       (time) datetime64[ns] 656B 2020-02-07T12:00:00 ... 2020-02-27T...\n",
       "Attributes:\n",
       "    long_name:      Temperature\n",
       "    short_name:     t\n",
       "    standard_name:  air_temperature\n",
       "    units:          K"
      ]
     },
     "execution_count": 34,
     "metadata": {},
     "output_type": "execute_result"
    }
   ],
   "source": [
    "X_pred"
   ]
  }
 ],
 "metadata": {
  "kernelspec": {
   "display_name": "xeus",
   "language": "python",
   "name": "python3"
  },
  "language_info": {
   "codemirror_mode": {
    "name": "ipython",
    "version": 3
   },
   "file_extension": ".py",
   "mimetype": "text/x-python",
   "name": "python",
   "nbconvert_exporter": "python",
   "pygments_lexer": "ipython3",
   "version": "3.11.0"
  }
 },
 "nbformat": 4,
 "nbformat_minor": 2
}
