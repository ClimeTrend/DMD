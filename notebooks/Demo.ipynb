{
 "cells": [
  {
   "cell_type": "markdown",
   "metadata": {},
   "source": [
    "# Intro\n",
    "\n",
    "This notebook provides minimal functionality for applying DMD to noisy climate data. \n",
    "\n",
    "The following capabilities are implemented:\n",
    "\n",
    "* use mask to remove land pixels from training\n",
    "* window average (window before current time)\n",
    "* densely sample weekly means around local mins of total ice\n",
    "* model monthly across years\n"
   ]
  },
  {
   "cell_type": "code",
   "execution_count": 9,
   "metadata": {},
   "outputs": [],
   "source": [
    "import dill\n",
    "\n",
    "import numpy as np\n",
    "import matplotlib.pyplot as plt\n",
    "\n",
    "from pydmd import DMD, BOPDMD, FbDMD, MrDMD\n",
    "from pydmd.plotter import plot_eigs, plot_summary, plot_modes_2D\n",
    "from pydmd.preprocessing import hankel_preprocessing\n",
    "\n",
    "from IPython.display import display\n",
    "from ipywidgets import interact, interactive, fixed, interact_manual\n",
    "import ipywidgets as widgets\n",
    "\n",
    "from scipy.ndimage import gaussian_filter\n",
    "\n",
    "from tqdm.autonotebook import tqdm, trange\n",
    "\n",
    "from scipy.signal import fftconvolve\n",
    "\n",
    "import sys\n",
    "sys.path.append('../')\n",
    "\n",
    "from modules.plot_jupyter import contour_compare, contour_data\n",
    "from modules.data_wrangle import get_days_before, get_test_set, window_mean\n",
    "from modules.dmd_routines import reshape_data2dmd, train_dmd, reshape_Psi2data, eval_dmd\n"
   ]
  },
  {
   "cell_type": "markdown",
   "metadata": {},
   "source": [
    "# Data\n"
   ]
  },
  {
   "cell_type": "code",
   "execution_count": 2,
   "metadata": {},
   "outputs": [
    {
     "data": {
      "text/plain": [
       "((64,), (64,), (5000, 64, 64), (10, 500, 64, 64))"
      ]
     },
     "execution_count": 2,
     "metadata": {},
     "output_type": "execute_result"
    }
   ],
   "source": [
    "with open('../data/Advection2D_1.pkl', 'rb') as f:\n",
    "    U, x, y = dill.load(f)\n",
    "\n",
    "\n",
    "# reshape as 10 \"years\" of \"500\" days each\n",
    "DATA = U.reshape(10, 500, 64, 64)\n",
    "\n",
    "x.shape, y.shape, U.shape, DATA.shape"
   ]
  },
  {
   "cell_type": "code",
   "execution_count": 3,
   "metadata": {},
   "outputs": [
    {
     "data": {
      "application/vnd.jupyter.widget-view+json": {
       "model_id": "99407a610060455fbe9c82f09bf3f15c",
       "version_major": 2,
       "version_minor": 0
      },
      "text/plain": [
       "interactive(children=(IntSlider(value=0, description='f_i(x,y)', max=499), IntSlider(value=32, description='f_…"
      ]
     },
     "execution_count": 3,
     "metadata": {},
     "output_type": "execute_result"
    }
   ],
   "source": [
    "# visualise one year\n",
    "contour_data(DATA[1])"
   ]
  },
  {
   "cell_type": "markdown",
   "metadata": {},
   "source": [
    "## Train optimised DMD\n",
    "\n",
    "DMD does not really require batching the data in the deep-AI sense. We simply need to select a training interval and fit DMD. After fitting, DMD model with fitted parameters can be used for prediction on any time interval. \n",
    "\n",
    "1. Identify a starting point in time by `year`, `day` \n",
    "2. Identify, how many days to train on: `T_train`\n",
    "3. Select subset of `DATA`, based on the above. Perform window-averaging to de-noise it. \n",
    "4. Fit DMD. \n",
    "5. Compute DMD predictions from `year`, `day` forward. "
   ]
  },
  {
   "cell_type": "code",
   "execution_count": 4,
   "metadata": {},
   "outputs": [
    {
     "data": {
      "text/plain": [
       "((779, 64, 64), (730, 64, 64))"
      ]
     },
     "execution_count": 4,
     "metadata": {},
     "output_type": "execute_result"
    }
   ],
   "source": [
    "#\n",
    "year = 3\n",
    "day = 100\n",
    "\n",
    "window = 50\n",
    "T_train = 365*2\n",
    "\n",
    "# compute windowed mean. Returns T_train snapshots before current time point (not inclusive)\n",
    "X0_ = get_days_before(DATA, year, day, T_train+window-1)\n",
    "X0 = window_mean(X0_, window = window, t = None)\n",
    "\n",
    "\n",
    "X0_.shape, X0.shape"
   ]
  },
  {
   "cell_type": "code",
   "execution_count": 5,
   "metadata": {},
   "outputs": [
    {
     "data": {
      "application/vnd.jupyter.widget-view+json": {
       "model_id": "63ca7fc768c1468fb69e8ac9baad89fe",
       "version_major": 2,
       "version_minor": 0
      },
      "text/plain": [
       "interactive(children=(IntSlider(value=0, description='f_i(x,y)', max=729), IntSlider(value=32, description='f_…"
      ]
     },
     "execution_count": 5,
     "metadata": {},
     "output_type": "execute_result"
    }
   ],
   "source": [
    "contour_compare(X0_[window-1:], X0)"
   ]
  },
  {
   "cell_type": "code",
   "execution_count": 8,
   "metadata": {},
   "outputs": [
    {
     "name": "stderr",
     "output_type": "stream",
     "text": [
      "/Users/pyatsyshin/miniconda3/envs/xeus/lib/python3.11/site-packages/pydmd/snapshots.py:72: UserWarning: Input data condition number 81774293789.47687. Consider preprocessing data, passing in augmented data\n",
      "matrix, or regularization methods.\n",
      "  warnings.warn(\n",
      "/Users/pyatsyshin/miniconda3/envs/xeus/lib/python3.11/site-packages/pydmd/bopdmd.py:751: UserWarning: Initial trial of Optimized DMD failed to converge. Consider re-adjusting your variable projection parameters with the varpro_opts_dict and consider setting verbose=True.\n",
      "  warnings.warn(msg)\n"
     ]
    }
   ],
   "source": [
    "t = np.arange(-T_train, 0)\n",
    "\n",
    "# time delay and dmd snapshots\n",
    "X_delayed, t_delayed, data_shape = reshape_data2dmd(X0, t, time_delay = 2, \n",
    "                                                     mask = None,\n",
    "                                                    isKeepFirstTimes = True)\n",
    "# train dmd\n",
    "Lambda, Psi_, bn = train_dmd(X_delayed, t_delayed, rank = 15)\n",
    "\n",
    "Psi = reshape_Psi2data(Psi_, data_shape, mask = None)"
   ]
  },
  {
   "cell_type": "code",
   "execution_count": 10,
   "metadata": {},
   "outputs": [],
   "source": [
    "t = np.arange(-T_train, T_train)\n",
    "true_after = get_test_set(DATA, year, day, window, T_train)\n",
    "X_true = np.concatenate((X0, true_after), axis = 0)\n",
    "\n",
    "X_pred = eval_dmd(Lambda, Psi, bn, t)"
   ]
  },
  {
   "cell_type": "code",
   "execution_count": 11,
   "metadata": {},
   "outputs": [
    {
     "data": {
      "text/plain": [
       "((1460, 64, 64), (1460, 64, 64))"
      ]
     },
     "execution_count": 11,
     "metadata": {},
     "output_type": "execute_result"
    }
   ],
   "source": [
    "X_true.shape, X_pred.shape"
   ]
  },
  {
   "cell_type": "code",
   "execution_count": 12,
   "metadata": {},
   "outputs": [
    {
     "data": {
      "application/vnd.jupyter.widget-view+json": {
       "model_id": "da81c5f98bbc4bd395c40e9a8ac47fdc",
       "version_major": 2,
       "version_minor": 0
      },
      "text/plain": [
       "interactive(children=(IntSlider(value=0, description='f_i(x,y)', max=1459), IntSlider(value=32, description='f…"
      ]
     },
     "execution_count": 12,
     "metadata": {},
     "output_type": "execute_result"
    }
   ],
   "source": [
    "contour_compare(X_true, X_pred)"
   ]
  },
  {
   "cell_type": "code",
   "execution_count": 15,
   "metadata": {},
   "outputs": [
    {
     "data": {
      "text/plain": [
       "<matplotlib.legend.Legend at 0x2c5291bd0>"
      ]
     },
     "execution_count": 15,
     "metadata": {},
     "output_type": "execute_result"
    },
    {
     "data": {
      "image/png": "[encoded data removed]",
      "text/plain": [
       "<Figure size 640x480 with 1 Axes>"
      ]
     },
     "metadata": {},
     "output_type": "display_data"
    }
   ],
   "source": [
    "# COMPUTE METRIC OF PREDICTION\n",
    "Integral_pred = np.trapz(np.trapz(X_pred, x, axis = 2), y, axis = 1)\n",
    "Integral_true = np.trapz(np.trapz(X_true, x, axis = 2), y, axis = 1)\n",
    "\n",
    "# plt.plot(t, Integral_pred1.T, color = 'k');\n",
    "plt.plot(t, Integral_pred.T, color = 'grey');\n",
    "plt.plot(t, Integral_true, label = 'true total', color = 'r')\n",
    "plt.axvline(0, linestyle = '--', color = 'k')\n",
    "\n",
    "plt.ylabel('total')\n",
    "plt.xlabel('days')\n",
    "\n",
    "plt.legend(loc = 'upper right')"
   ]
  }
 ],
 "metadata": {
  "kernelspec": {
   "display_name": "xeus",
   "language": "python",
   "name": "python3"
  },
  "language_info": {
   "codemirror_mode": {
    "name": "ipython",
    "version": 3
   },
   "file_extension": ".py",
   "mimetype": "text/x-python",
   "name": "python",
   "nbconvert_exporter": "python",
   "pygments_lexer": "ipython3",
   "version": "3.11.3"
  }
 },
 "nbformat": 4,
 "nbformat_minor": 2
}
